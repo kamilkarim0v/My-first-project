{
 "cells": [
  {
   "cell_type": "markdown",
   "id": "225f804a",
   "metadata": {},
   "source": [
    "# Описание проекта\n",
    "Вы работаете в интернет-магазине «Стримчик», который продаёт по всему миру компьютерные игры. Из открытых источников доступны исторические данные о продажах игр, оценки пользователей и экспертов, жанры и платформы (например, Xbox или PlayStation). Вам нужно выявить определяющие успешность игры закономерности. Это позволит сделать ставку на потенциально популярный продукт и спланировать рекламные кампании.\n",
    "Перед вами данные до 2016 года. Представим, что сейчас декабрь 2016 г., и вы планируете кампанию на 2017-й. Нужно отработать принцип работы с данными. Неважно, прогнозируете ли вы продажи на 2017 год по данным 2016-го или же 2027-й — по данным 2026 года.\n",
    "В наборе данных попадается аббревиатура ESRB (Entertainment Software Rating Board) — это ассоциация, определяющая возрастной рейтинг компьютерных игр. ESRB оценивает игровой контент и присваивает ему подходящую возрастную категорию, например, «Для взрослых», «Для детей младшего возраста» или «Для подростков»."
   ]
  },
  {
   "cell_type": "markdown",
   "id": "0ac51252",
   "metadata": {},
   "source": [
    "### Шаг 1. Откройте файл с данными и изучите общую информацию. "
   ]
  },
  {
   "cell_type": "markdown",
   "id": "15c90d6c",
   "metadata": {},
   "source": [
    "#### 1. Импортирем библиотеки. Считываем данные из csv-файла в датафрейм и сохраняем в переменную `df`"
   ]
  },
  {
   "cell_type": "code",
   "execution_count": 1,
   "id": "d8e7565a",
   "metadata": {},
   "outputs": [],
   "source": [
    "import pandas as pd\n",
    "import matplotlib.pyplot as plt\n",
    "import numpy as np\n",
    "import seaborn as sns"
   ]
  },
  {
   "cell_type": "code",
   "execution_count": 2,
   "id": "57e31abb",
   "metadata": {},
   "outputs": [],
   "source": [
    "try:\n",
    "    df = pd.read_csv('datasets/games.csv')\n",
    "except:\n",
    "    df = pd.read_csv('https://code.s3.yandex.net/datasets/games.csv')"
   ]
  },
  {
   "cell_type": "markdown",
   "id": "b1793500",
   "metadata": {},
   "source": [
    "#### 2. Изучаем общую информацию о полученном датафрейме."
   ]
  },
  {
   "cell_type": "code",
   "execution_count": 3,
   "id": "8ee8a43b",
   "metadata": {
    "scrolled": false
   },
   "outputs": [
    {
     "data": {
      "text/html": [
       "<div>\n",
       "<style scoped>\n",
       "    .dataframe tbody tr th:only-of-type {\n",
       "        vertical-align: middle;\n",
       "    }\n",
       "\n",
       "    .dataframe tbody tr th {\n",
       "        vertical-align: top;\n",
       "    }\n",
       "\n",
       "    .dataframe thead th {\n",
       "        text-align: right;\n",
       "    }\n",
       "</style>\n",
       "<table border=\"1\" class=\"dataframe\">\n",
       "  <thead>\n",
       "    <tr style=\"text-align: right;\">\n",
       "      <th></th>\n",
       "      <th>Name</th>\n",
       "      <th>Platform</th>\n",
       "      <th>Year_of_Release</th>\n",
       "      <th>Genre</th>\n",
       "      <th>NA_sales</th>\n",
       "      <th>EU_sales</th>\n",
       "      <th>JP_sales</th>\n",
       "      <th>Other_sales</th>\n",
       "      <th>Critic_Score</th>\n",
       "      <th>User_Score</th>\n",
       "      <th>Rating</th>\n",
       "    </tr>\n",
       "  </thead>\n",
       "  <tbody>\n",
       "    <tr>\n",
       "      <th>0</th>\n",
       "      <td>Wii Sports</td>\n",
       "      <td>Wii</td>\n",
       "      <td>2006.0</td>\n",
       "      <td>Sports</td>\n",
       "      <td>41.36</td>\n",
       "      <td>28.96</td>\n",
       "      <td>3.77</td>\n",
       "      <td>8.45</td>\n",
       "      <td>76.0</td>\n",
       "      <td>8</td>\n",
       "      <td>E</td>\n",
       "    </tr>\n",
       "    <tr>\n",
       "      <th>1</th>\n",
       "      <td>Super Mario Bros.</td>\n",
       "      <td>NES</td>\n",
       "      <td>1985.0</td>\n",
       "      <td>Platform</td>\n",
       "      <td>29.08</td>\n",
       "      <td>3.58</td>\n",
       "      <td>6.81</td>\n",
       "      <td>0.77</td>\n",
       "      <td>NaN</td>\n",
       "      <td>NaN</td>\n",
       "      <td>NaN</td>\n",
       "    </tr>\n",
       "    <tr>\n",
       "      <th>2</th>\n",
       "      <td>Mario Kart Wii</td>\n",
       "      <td>Wii</td>\n",
       "      <td>2008.0</td>\n",
       "      <td>Racing</td>\n",
       "      <td>15.68</td>\n",
       "      <td>12.76</td>\n",
       "      <td>3.79</td>\n",
       "      <td>3.29</td>\n",
       "      <td>82.0</td>\n",
       "      <td>8.3</td>\n",
       "      <td>E</td>\n",
       "    </tr>\n",
       "    <tr>\n",
       "      <th>3</th>\n",
       "      <td>Wii Sports Resort</td>\n",
       "      <td>Wii</td>\n",
       "      <td>2009.0</td>\n",
       "      <td>Sports</td>\n",
       "      <td>15.61</td>\n",
       "      <td>10.93</td>\n",
       "      <td>3.28</td>\n",
       "      <td>2.95</td>\n",
       "      <td>80.0</td>\n",
       "      <td>8</td>\n",
       "      <td>E</td>\n",
       "    </tr>\n",
       "    <tr>\n",
       "      <th>4</th>\n",
       "      <td>Pokemon Red/Pokemon Blue</td>\n",
       "      <td>GB</td>\n",
       "      <td>1996.0</td>\n",
       "      <td>Role-Playing</td>\n",
       "      <td>11.27</td>\n",
       "      <td>8.89</td>\n",
       "      <td>10.22</td>\n",
       "      <td>1.00</td>\n",
       "      <td>NaN</td>\n",
       "      <td>NaN</td>\n",
       "      <td>NaN</td>\n",
       "    </tr>\n",
       "    <tr>\n",
       "      <th>5</th>\n",
       "      <td>Tetris</td>\n",
       "      <td>GB</td>\n",
       "      <td>1989.0</td>\n",
       "      <td>Puzzle</td>\n",
       "      <td>23.20</td>\n",
       "      <td>2.26</td>\n",
       "      <td>4.22</td>\n",
       "      <td>0.58</td>\n",
       "      <td>NaN</td>\n",
       "      <td>NaN</td>\n",
       "      <td>NaN</td>\n",
       "    </tr>\n",
       "    <tr>\n",
       "      <th>6</th>\n",
       "      <td>New Super Mario Bros.</td>\n",
       "      <td>DS</td>\n",
       "      <td>2006.0</td>\n",
       "      <td>Platform</td>\n",
       "      <td>11.28</td>\n",
       "      <td>9.14</td>\n",
       "      <td>6.50</td>\n",
       "      <td>2.88</td>\n",
       "      <td>89.0</td>\n",
       "      <td>8.5</td>\n",
       "      <td>E</td>\n",
       "    </tr>\n",
       "    <tr>\n",
       "      <th>7</th>\n",
       "      <td>Wii Play</td>\n",
       "      <td>Wii</td>\n",
       "      <td>2006.0</td>\n",
       "      <td>Misc</td>\n",
       "      <td>13.96</td>\n",
       "      <td>9.18</td>\n",
       "      <td>2.93</td>\n",
       "      <td>2.84</td>\n",
       "      <td>58.0</td>\n",
       "      <td>6.6</td>\n",
       "      <td>E</td>\n",
       "    </tr>\n",
       "    <tr>\n",
       "      <th>8</th>\n",
       "      <td>New Super Mario Bros. Wii</td>\n",
       "      <td>Wii</td>\n",
       "      <td>2009.0</td>\n",
       "      <td>Platform</td>\n",
       "      <td>14.44</td>\n",
       "      <td>6.94</td>\n",
       "      <td>4.70</td>\n",
       "      <td>2.24</td>\n",
       "      <td>87.0</td>\n",
       "      <td>8.4</td>\n",
       "      <td>E</td>\n",
       "    </tr>\n",
       "    <tr>\n",
       "      <th>9</th>\n",
       "      <td>Duck Hunt</td>\n",
       "      <td>NES</td>\n",
       "      <td>1984.0</td>\n",
       "      <td>Shooter</td>\n",
       "      <td>26.93</td>\n",
       "      <td>0.63</td>\n",
       "      <td>0.28</td>\n",
       "      <td>0.47</td>\n",
       "      <td>NaN</td>\n",
       "      <td>NaN</td>\n",
       "      <td>NaN</td>\n",
       "    </tr>\n",
       "    <tr>\n",
       "      <th>10</th>\n",
       "      <td>Nintendogs</td>\n",
       "      <td>DS</td>\n",
       "      <td>2005.0</td>\n",
       "      <td>Simulation</td>\n",
       "      <td>9.05</td>\n",
       "      <td>10.95</td>\n",
       "      <td>1.93</td>\n",
       "      <td>2.74</td>\n",
       "      <td>NaN</td>\n",
       "      <td>NaN</td>\n",
       "      <td>NaN</td>\n",
       "    </tr>\n",
       "    <tr>\n",
       "      <th>11</th>\n",
       "      <td>Mario Kart DS</td>\n",
       "      <td>DS</td>\n",
       "      <td>2005.0</td>\n",
       "      <td>Racing</td>\n",
       "      <td>9.71</td>\n",
       "      <td>7.47</td>\n",
       "      <td>4.13</td>\n",
       "      <td>1.90</td>\n",
       "      <td>91.0</td>\n",
       "      <td>8.6</td>\n",
       "      <td>E</td>\n",
       "    </tr>\n",
       "    <tr>\n",
       "      <th>12</th>\n",
       "      <td>Pokemon Gold/Pokemon Silver</td>\n",
       "      <td>GB</td>\n",
       "      <td>1999.0</td>\n",
       "      <td>Role-Playing</td>\n",
       "      <td>9.00</td>\n",
       "      <td>6.18</td>\n",
       "      <td>7.20</td>\n",
       "      <td>0.71</td>\n",
       "      <td>NaN</td>\n",
       "      <td>NaN</td>\n",
       "      <td>NaN</td>\n",
       "    </tr>\n",
       "    <tr>\n",
       "      <th>13</th>\n",
       "      <td>Wii Fit</td>\n",
       "      <td>Wii</td>\n",
       "      <td>2007.0</td>\n",
       "      <td>Sports</td>\n",
       "      <td>8.92</td>\n",
       "      <td>8.03</td>\n",
       "      <td>3.60</td>\n",
       "      <td>2.15</td>\n",
       "      <td>80.0</td>\n",
       "      <td>7.7</td>\n",
       "      <td>E</td>\n",
       "    </tr>\n",
       "    <tr>\n",
       "      <th>14</th>\n",
       "      <td>Kinect Adventures!</td>\n",
       "      <td>X360</td>\n",
       "      <td>2010.0</td>\n",
       "      <td>Misc</td>\n",
       "      <td>15.00</td>\n",
       "      <td>4.89</td>\n",
       "      <td>0.24</td>\n",
       "      <td>1.69</td>\n",
       "      <td>61.0</td>\n",
       "      <td>6.3</td>\n",
       "      <td>E</td>\n",
       "    </tr>\n",
       "  </tbody>\n",
       "</table>\n",
       "</div>"
      ],
      "text/plain": [
       "                           Name Platform  Year_of_Release         Genre  \\\n",
       "0                    Wii Sports      Wii           2006.0        Sports   \n",
       "1             Super Mario Bros.      NES           1985.0      Platform   \n",
       "2                Mario Kart Wii      Wii           2008.0        Racing   \n",
       "3             Wii Sports Resort      Wii           2009.0        Sports   \n",
       "4      Pokemon Red/Pokemon Blue       GB           1996.0  Role-Playing   \n",
       "5                        Tetris       GB           1989.0        Puzzle   \n",
       "6         New Super Mario Bros.       DS           2006.0      Platform   \n",
       "7                      Wii Play      Wii           2006.0          Misc   \n",
       "8     New Super Mario Bros. Wii      Wii           2009.0      Platform   \n",
       "9                     Duck Hunt      NES           1984.0       Shooter   \n",
       "10                   Nintendogs       DS           2005.0    Simulation   \n",
       "11                Mario Kart DS       DS           2005.0        Racing   \n",
       "12  Pokemon Gold/Pokemon Silver       GB           1999.0  Role-Playing   \n",
       "13                      Wii Fit      Wii           2007.0        Sports   \n",
       "14           Kinect Adventures!     X360           2010.0          Misc   \n",
       "\n",
       "    NA_sales  EU_sales  JP_sales  Other_sales  Critic_Score User_Score Rating  \n",
       "0      41.36     28.96      3.77         8.45          76.0          8      E  \n",
       "1      29.08      3.58      6.81         0.77           NaN        NaN    NaN  \n",
       "2      15.68     12.76      3.79         3.29          82.0        8.3      E  \n",
       "3      15.61     10.93      3.28         2.95          80.0          8      E  \n",
       "4      11.27      8.89     10.22         1.00           NaN        NaN    NaN  \n",
       "5      23.20      2.26      4.22         0.58           NaN        NaN    NaN  \n",
       "6      11.28      9.14      6.50         2.88          89.0        8.5      E  \n",
       "7      13.96      9.18      2.93         2.84          58.0        6.6      E  \n",
       "8      14.44      6.94      4.70         2.24          87.0        8.4      E  \n",
       "9      26.93      0.63      0.28         0.47           NaN        NaN    NaN  \n",
       "10      9.05     10.95      1.93         2.74           NaN        NaN    NaN  \n",
       "11      9.71      7.47      4.13         1.90          91.0        8.6      E  \n",
       "12      9.00      6.18      7.20         0.71           NaN        NaN    NaN  \n",
       "13      8.92      8.03      3.60         2.15          80.0        7.7      E  \n",
       "14     15.00      4.89      0.24         1.69          61.0        6.3      E  "
      ]
     },
     "execution_count": 3,
     "metadata": {},
     "output_type": "execute_result"
    }
   ],
   "source": [
    "#Выведем первые 15 сток\n",
    "df.head(15)"
   ]
  },
  {
   "cell_type": "code",
   "execution_count": 4,
   "id": "b5278dd4",
   "metadata": {},
   "outputs": [
    {
     "name": "stdout",
     "output_type": "stream",
     "text": [
      "<class 'pandas.core.frame.DataFrame'>\n",
      "RangeIndex: 16715 entries, 0 to 16714\n",
      "Data columns (total 11 columns):\n",
      " #   Column           Non-Null Count  Dtype  \n",
      "---  ------           --------------  -----  \n",
      " 0   Name             16713 non-null  object \n",
      " 1   Platform         16715 non-null  object \n",
      " 2   Year_of_Release  16446 non-null  float64\n",
      " 3   Genre            16713 non-null  object \n",
      " 4   NA_sales         16715 non-null  float64\n",
      " 5   EU_sales         16715 non-null  float64\n",
      " 6   JP_sales         16715 non-null  float64\n",
      " 7   Other_sales      16715 non-null  float64\n",
      " 8   Critic_Score     8137 non-null   float64\n",
      " 9   User_Score       10014 non-null  object \n",
      " 10  Rating           9949 non-null   object \n",
      "dtypes: float64(6), object(5)\n",
      "memory usage: 1.4+ MB\n"
     ]
    }
   ],
   "source": [
    "#Выведем основную информацию о датафрейме с помощью метода info()\n",
    "df.info()"
   ]
  },
  {
   "cell_type": "markdown",
   "id": "3a14bb19",
   "metadata": {},
   "source": [
    "#### 3. Построим общую гистограмму для всех числовых столбцов таблицы."
   ]
  },
  {
   "cell_type": "code",
   "execution_count": 5,
   "id": "6bee24a0",
   "metadata": {},
   "outputs": [
    {
     "data": {
      "image/png": "[encoded data removed]",
      "text/plain": [
       "<Figure size 1080x1440 with 6 Axes>"
      ]
     },
     "metadata": {
      "needs_background": "light"
     },
     "output_type": "display_data"
    }
   ],
   "source": [
    "df.hist(figsize=(15, 20))\n",
    "plt.show()"
   ]
  },
  {
   "cell_type": "markdown",
   "id": "2a586cf9",
   "metadata": {},
   "source": [
    "#### 4. Проверим датасет на дубликаты."
   ]
  },
  {
   "cell_type": "code",
   "execution_count": 6,
   "id": "00fc679c",
   "metadata": {},
   "outputs": [
    {
     "data": {
      "text/plain": [
       "0"
      ]
     },
     "execution_count": 6,
     "metadata": {},
     "output_type": "execute_result"
    }
   ],
   "source": [
    "df.duplicated().sum()"
   ]
  },
  {
   "cell_type": "markdown",
   "id": "95db450a",
   "metadata": {},
   "source": [
    "**На этапе ознакомления с данными:**\n",
    "1. Импрортировали библиотеки pandas, matplotlib, numpy.\n",
    "2. Изучили первые 15 строк и основную информацию датафрейма.\n",
    "3. Построили общие гистограммы для всех числовых столбцов таблицы.\n",
    "4. Проверили датасет на дубликаты."
   ]
  },
  {
   "cell_type": "markdown",
   "id": "0543d93f",
   "metadata": {},
   "source": [
    "### Шаг 2. Предобработка данных"
   ]
  },
  {
   "cell_type": "markdown",
   "id": "40bc5053",
   "metadata": {},
   "source": [
    "#### 1. Замените названия столбцов (приведите к нижнему регистру)"
   ]
  },
  {
   "cell_type": "code",
   "execution_count": 7,
   "id": "4cbe7ad6",
   "metadata": {},
   "outputs": [],
   "source": [
    "#Воспользуемся методом str.lower() для названий столбцов\n",
    "df.columns = df.columns.str.lower()"
   ]
  },
  {
   "cell_type": "code",
   "execution_count": 8,
   "id": "ba4816a7",
   "metadata": {},
   "outputs": [
    {
     "data": {
      "text/html": [
       "<div>\n",
       "<style scoped>\n",
       "    .dataframe tbody tr th:only-of-type {\n",
       "        vertical-align: middle;\n",
       "    }\n",
       "\n",
       "    .dataframe tbody tr th {\n",
       "        vertical-align: top;\n",
       "    }\n",
       "\n",
       "    .dataframe thead th {\n",
       "        text-align: right;\n",
       "    }\n",
       "</style>\n",
       "<table border=\"1\" class=\"dataframe\">\n",
       "  <thead>\n",
       "    <tr style=\"text-align: right;\">\n",
       "      <th></th>\n",
       "      <th>name</th>\n",
       "      <th>platform</th>\n",
       "      <th>year_of_release</th>\n",
       "      <th>genre</th>\n",
       "      <th>na_sales</th>\n",
       "      <th>eu_sales</th>\n",
       "      <th>jp_sales</th>\n",
       "      <th>other_sales</th>\n",
       "      <th>critic_score</th>\n",
       "      <th>user_score</th>\n",
       "      <th>rating</th>\n",
       "    </tr>\n",
       "  </thead>\n",
       "  <tbody>\n",
       "    <tr>\n",
       "      <th>0</th>\n",
       "      <td>Wii Sports</td>\n",
       "      <td>Wii</td>\n",
       "      <td>2006.0</td>\n",
       "      <td>Sports</td>\n",
       "      <td>41.36</td>\n",
       "      <td>28.96</td>\n",
       "      <td>3.77</td>\n",
       "      <td>8.45</td>\n",
       "      <td>76.0</td>\n",
       "      <td>8</td>\n",
       "      <td>E</td>\n",
       "    </tr>\n",
       "    <tr>\n",
       "      <th>1</th>\n",
       "      <td>Super Mario Bros.</td>\n",
       "      <td>NES</td>\n",
       "      <td>1985.0</td>\n",
       "      <td>Platform</td>\n",
       "      <td>29.08</td>\n",
       "      <td>3.58</td>\n",
       "      <td>6.81</td>\n",
       "      <td>0.77</td>\n",
       "      <td>NaN</td>\n",
       "      <td>NaN</td>\n",
       "      <td>NaN</td>\n",
       "    </tr>\n",
       "    <tr>\n",
       "      <th>2</th>\n",
       "      <td>Mario Kart Wii</td>\n",
       "      <td>Wii</td>\n",
       "      <td>2008.0</td>\n",
       "      <td>Racing</td>\n",
       "      <td>15.68</td>\n",
       "      <td>12.76</td>\n",
       "      <td>3.79</td>\n",
       "      <td>3.29</td>\n",
       "      <td>82.0</td>\n",
       "      <td>8.3</td>\n",
       "      <td>E</td>\n",
       "    </tr>\n",
       "    <tr>\n",
       "      <th>3</th>\n",
       "      <td>Wii Sports Resort</td>\n",
       "      <td>Wii</td>\n",
       "      <td>2009.0</td>\n",
       "      <td>Sports</td>\n",
       "      <td>15.61</td>\n",
       "      <td>10.93</td>\n",
       "      <td>3.28</td>\n",
       "      <td>2.95</td>\n",
       "      <td>80.0</td>\n",
       "      <td>8</td>\n",
       "      <td>E</td>\n",
       "    </tr>\n",
       "    <tr>\n",
       "      <th>4</th>\n",
       "      <td>Pokemon Red/Pokemon Blue</td>\n",
       "      <td>GB</td>\n",
       "      <td>1996.0</td>\n",
       "      <td>Role-Playing</td>\n",
       "      <td>11.27</td>\n",
       "      <td>8.89</td>\n",
       "      <td>10.22</td>\n",
       "      <td>1.00</td>\n",
       "      <td>NaN</td>\n",
       "      <td>NaN</td>\n",
       "      <td>NaN</td>\n",
       "    </tr>\n",
       "  </tbody>\n",
       "</table>\n",
       "</div>"
      ],
      "text/plain": [
       "                       name platform  year_of_release         genre  na_sales  \\\n",
       "0                Wii Sports      Wii           2006.0        Sports     41.36   \n",
       "1         Super Mario Bros.      NES           1985.0      Platform     29.08   \n",
       "2            Mario Kart Wii      Wii           2008.0        Racing     15.68   \n",
       "3         Wii Sports Resort      Wii           2009.0        Sports     15.61   \n",
       "4  Pokemon Red/Pokemon Blue       GB           1996.0  Role-Playing     11.27   \n",
       "\n",
       "   eu_sales  jp_sales  other_sales  critic_score user_score rating  \n",
       "0     28.96      3.77         8.45          76.0          8      E  \n",
       "1      3.58      6.81         0.77           NaN        NaN    NaN  \n",
       "2     12.76      3.79         3.29          82.0        8.3      E  \n",
       "3     10.93      3.28         2.95          80.0          8      E  \n",
       "4      8.89     10.22         1.00           NaN        NaN    NaN  "
      ]
     },
     "execution_count": 8,
     "metadata": {},
     "output_type": "execute_result"
    }
   ],
   "source": [
    "#проверим\n",
    "df.head()"
   ]
  },
  {
   "cell_type": "markdown",
   "id": "b2807b15",
   "metadata": {},
   "source": [
    "#### 2. Преобразуйте данные в нужные типы. Опишите, в каких столбцах заменили тип данных и почему"
   ]
  },
  {
   "cell_type": "code",
   "execution_count": 9,
   "id": "c168ae0c",
   "metadata": {},
   "outputs": [
    {
     "name": "stdout",
     "output_type": "stream",
     "text": [
      "<class 'pandas.core.frame.DataFrame'>\n",
      "RangeIndex: 16715 entries, 0 to 16714\n",
      "Data columns (total 11 columns):\n",
      " #   Column           Non-Null Count  Dtype  \n",
      "---  ------           --------------  -----  \n",
      " 0   name             16713 non-null  object \n",
      " 1   platform         16715 non-null  object \n",
      " 2   year_of_release  16446 non-null  float64\n",
      " 3   genre            16713 non-null  object \n",
      " 4   na_sales         16715 non-null  float64\n",
      " 5   eu_sales         16715 non-null  float64\n",
      " 6   jp_sales         16715 non-null  float64\n",
      " 7   other_sales      16715 non-null  float64\n",
      " 8   critic_score     8137 non-null   float64\n",
      " 9   user_score       10014 non-null  object \n",
      " 10  rating           9949 non-null   object \n",
      "dtypes: float64(6), object(5)\n",
      "memory usage: 1.4+ MB\n"
     ]
    }
   ],
   "source": [
    "#Рассмотрим типы данных в каждом столбце методом info()\n",
    "df.info()"
   ]
  },
  {
   "cell_type": "code",
   "execution_count": 10,
   "id": "7258f4ca",
   "metadata": {},
   "outputs": [],
   "source": [
    "#Переведем year_of_release в int\n",
    "df['year_of_release'] = df['year_of_release'].astype('Int64')"
   ]
  },
  {
   "cell_type": "code",
   "execution_count": 11,
   "id": "79c8ff56",
   "metadata": {},
   "outputs": [],
   "source": [
    "#Переведем user_score в float\n",
    "#для начала нужно перевести значения tbd в np.Nan\n",
    "df['user_score'] = df['user_score'].replace('tbd', np.NaN)\n",
    "df['user_score'] = df['user_score'].astype(float)"
   ]
  },
  {
   "cell_type": "code",
   "execution_count": 12,
   "id": "e1420e59",
   "metadata": {},
   "outputs": [
    {
     "name": "stdout",
     "output_type": "stream",
     "text": [
      "<class 'pandas.core.frame.DataFrame'>\n",
      "RangeIndex: 16715 entries, 0 to 16714\n",
      "Data columns (total 11 columns):\n",
      " #   Column           Non-Null Count  Dtype  \n",
      "---  ------           --------------  -----  \n",
      " 0   name             16713 non-null  object \n",
      " 1   platform         16715 non-null  object \n",
      " 2   year_of_release  16446 non-null  Int64  \n",
      " 3   genre            16713 non-null  object \n",
      " 4   na_sales         16715 non-null  float64\n",
      " 5   eu_sales         16715 non-null  float64\n",
      " 6   jp_sales         16715 non-null  float64\n",
      " 7   other_sales      16715 non-null  float64\n",
      " 8   critic_score     8137 non-null   float64\n",
      " 9   user_score       7590 non-null   float64\n",
      " 10  rating           9949 non-null   object \n",
      "dtypes: Int64(1), float64(6), object(4)\n",
      "memory usage: 1.4+ MB\n"
     ]
    }
   ],
   "source": [
    "#проверим\n",
    "df.info()"
   ]
  },
  {
   "cell_type": "markdown",
   "id": "1cca96f4",
   "metadata": {},
   "source": [
    "#### 3. Обработайте пропуски при необходимости"
   ]
  },
  {
   "cell_type": "code",
   "execution_count": 13,
   "id": "893f0927",
   "metadata": {},
   "outputs": [
    {
     "data": {
      "text/plain": [
       "name                  2\n",
       "platform              0\n",
       "year_of_release     269\n",
       "genre                 2\n",
       "na_sales              0\n",
       "eu_sales              0\n",
       "jp_sales              0\n",
       "other_sales           0\n",
       "critic_score       8578\n",
       "user_score         9125\n",
       "rating             6766\n",
       "dtype: int64"
      ]
     },
     "execution_count": 13,
     "metadata": {},
     "output_type": "execute_result"
    }
   ],
   "source": [
    "#проверим пропуски методом isna().sum()\n",
    "df.isna().sum()"
   ]
  },
  {
   "cell_type": "markdown",
   "id": "00d35b08",
   "metadata": {},
   "source": [
    "*значения в name, genre, year_of_release можно удалить, так как конкретно узать название игры, жанр и год выпуска нельзя. Пропуски, здесь возникли, скорее всего, по причине того, что название, жанр и год выпуска еще не утверждены, либо их просто забыли заполнить.*"
   ]
  },
  {
   "cell_type": "code",
   "execution_count": 14,
   "id": "f4bc02fa",
   "metadata": {},
   "outputs": [],
   "source": [
    "df.dropna(subset = ['name', 'year_of_release', 'genre'], inplace = True)"
   ]
  },
  {
   "cell_type": "markdown",
   "id": "c638482c",
   "metadata": {},
   "source": [
    "*заполнение оценок пользователей и критиков в user_score, critic_score добавит \"шума\" в данные, поэтому пропуски стоит сохранить.*\n",
    "\n",
    "*Пропуски в значениях critic_score, user_score, скорее всего, возникли по причине того, что игра выпущена недавно и оценки еще не сформированы, либо потому, что ирга не популярна и ее никто не оценил.*"
   ]
  },
  {
   "cell_type": "code",
   "execution_count": 15,
   "id": "b1d57a1d",
   "metadata": {},
   "outputs": [
    {
     "data": {
      "text/html": [
       "<div>\n",
       "<style scoped>\n",
       "    .dataframe tbody tr th:only-of-type {\n",
       "        vertical-align: middle;\n",
       "    }\n",
       "\n",
       "    .dataframe tbody tr th {\n",
       "        vertical-align: top;\n",
       "    }\n",
       "\n",
       "    .dataframe thead th {\n",
       "        text-align: right;\n",
       "    }\n",
       "</style>\n",
       "<table border=\"1\" class=\"dataframe\">\n",
       "  <thead>\n",
       "    <tr style=\"text-align: right;\">\n",
       "      <th></th>\n",
       "      <th></th>\n",
       "      <th>name</th>\n",
       "    </tr>\n",
       "    <tr>\n",
       "      <th>rating</th>\n",
       "      <th>genre</th>\n",
       "      <th></th>\n",
       "    </tr>\n",
       "  </thead>\n",
       "  <tbody>\n",
       "    <tr>\n",
       "      <th>AO</th>\n",
       "      <th>Action</th>\n",
       "      <td>1</td>\n",
       "    </tr>\n",
       "    <tr>\n",
       "      <th rowspan=\"12\" valign=\"top\">E</th>\n",
       "      <th>Action</th>\n",
       "      <td>410</td>\n",
       "    </tr>\n",
       "    <tr>\n",
       "      <th>Adventure</th>\n",
       "      <td>159</td>\n",
       "    </tr>\n",
       "    <tr>\n",
       "      <th>Fighting</th>\n",
       "      <td>8</td>\n",
       "    </tr>\n",
       "    <tr>\n",
       "      <th>Misc</th>\n",
       "      <td>449</td>\n",
       "    </tr>\n",
       "    <tr>\n",
       "      <th>Platform</th>\n",
       "      <td>354</td>\n",
       "    </tr>\n",
       "    <tr>\n",
       "      <th>Puzzle</th>\n",
       "      <td>284</td>\n",
       "    </tr>\n",
       "    <tr>\n",
       "      <th>Racing</th>\n",
       "      <td>576</td>\n",
       "    </tr>\n",
       "    <tr>\n",
       "      <th>Role-Playing</th>\n",
       "      <td>83</td>\n",
       "    </tr>\n",
       "    <tr>\n",
       "      <th>Shooter</th>\n",
       "      <td>47</td>\n",
       "    </tr>\n",
       "    <tr>\n",
       "      <th>Simulation</th>\n",
       "      <td>321</td>\n",
       "    </tr>\n",
       "    <tr>\n",
       "      <th>Sports</th>\n",
       "      <td>1162</td>\n",
       "    </tr>\n",
       "    <tr>\n",
       "      <th>Strategy</th>\n",
       "      <td>68</td>\n",
       "    </tr>\n",
       "    <tr>\n",
       "      <th rowspan=\"12\" valign=\"top\">E10+</th>\n",
       "      <th>Action</th>\n",
       "      <td>468</td>\n",
       "    </tr>\n",
       "    <tr>\n",
       "      <th>Adventure</th>\n",
       "      <td>67</td>\n",
       "    </tr>\n",
       "    <tr>\n",
       "      <th>Fighting</th>\n",
       "      <td>19</td>\n",
       "    </tr>\n",
       "    <tr>\n",
       "      <th>Misc</th>\n",
       "      <td>166</td>\n",
       "    </tr>\n",
       "    <tr>\n",
       "      <th>Platform</th>\n",
       "      <td>141</td>\n",
       "    </tr>\n",
       "    <tr>\n",
       "      <th>Puzzle</th>\n",
       "      <td>42</td>\n",
       "    </tr>\n",
       "    <tr>\n",
       "      <th>Racing</th>\n",
       "      <td>95</td>\n",
       "    </tr>\n",
       "    <tr>\n",
       "      <th>Role-Playing</th>\n",
       "      <td>111</td>\n",
       "    </tr>\n",
       "    <tr>\n",
       "      <th>Shooter</th>\n",
       "      <td>56</td>\n",
       "    </tr>\n",
       "    <tr>\n",
       "      <th>Simulation</th>\n",
       "      <td>47</td>\n",
       "    </tr>\n",
       "    <tr>\n",
       "      <th>Sports</th>\n",
       "      <td>105</td>\n",
       "    </tr>\n",
       "    <tr>\n",
       "      <th>Strategy</th>\n",
       "      <td>76</td>\n",
       "    </tr>\n",
       "    <tr>\n",
       "      <th rowspan=\"3\" valign=\"top\">EC</th>\n",
       "      <th>Action</th>\n",
       "      <td>1</td>\n",
       "    </tr>\n",
       "    <tr>\n",
       "      <th>Adventure</th>\n",
       "      <td>2</td>\n",
       "    </tr>\n",
       "    <tr>\n",
       "      <th>Misc</th>\n",
       "      <td>5</td>\n",
       "    </tr>\n",
       "    <tr>\n",
       "      <th rowspan=\"2\" valign=\"top\">K-A</th>\n",
       "      <th>Misc</th>\n",
       "      <td>1</td>\n",
       "    </tr>\n",
       "    <tr>\n",
       "      <th>Strategy</th>\n",
       "      <td>2</td>\n",
       "    </tr>\n",
       "    <tr>\n",
       "      <th rowspan=\"11\" valign=\"top\">M</th>\n",
       "      <th>Action</th>\n",
       "      <td>596</td>\n",
       "    </tr>\n",
       "    <tr>\n",
       "      <th>Adventure</th>\n",
       "      <td>98</td>\n",
       "    </tr>\n",
       "    <tr>\n",
       "      <th>Fighting</th>\n",
       "      <td>48</td>\n",
       "    </tr>\n",
       "    <tr>\n",
       "      <th>Misc</th>\n",
       "      <td>13</td>\n",
       "    </tr>\n",
       "    <tr>\n",
       "      <th>Platform</th>\n",
       "      <td>3</td>\n",
       "    </tr>\n",
       "    <tr>\n",
       "      <th>Racing</th>\n",
       "      <td>18</td>\n",
       "    </tr>\n",
       "    <tr>\n",
       "      <th>Role-Playing</th>\n",
       "      <td>161</td>\n",
       "    </tr>\n",
       "    <tr>\n",
       "      <th>Shooter</th>\n",
       "      <td>553</td>\n",
       "    </tr>\n",
       "    <tr>\n",
       "      <th>Simulation</th>\n",
       "      <td>5</td>\n",
       "    </tr>\n",
       "    <tr>\n",
       "      <th>Sports</th>\n",
       "      <td>16</td>\n",
       "    </tr>\n",
       "    <tr>\n",
       "      <th>Strategy</th>\n",
       "      <td>25</td>\n",
       "    </tr>\n",
       "    <tr>\n",
       "      <th>RP</th>\n",
       "      <th>Strategy</th>\n",
       "      <td>1</td>\n",
       "    </tr>\n",
       "    <tr>\n",
       "      <th rowspan=\"12\" valign=\"top\">T</th>\n",
       "      <th>Action</th>\n",
       "      <td>670</td>\n",
       "    </tr>\n",
       "    <tr>\n",
       "      <th>Adventure</th>\n",
       "      <td>114</td>\n",
       "    </tr>\n",
       "    <tr>\n",
       "      <th>Fighting</th>\n",
       "      <td>357</td>\n",
       "    </tr>\n",
       "    <tr>\n",
       "      <th>Misc</th>\n",
       "      <td>228</td>\n",
       "    </tr>\n",
       "    <tr>\n",
       "      <th>Platform</th>\n",
       "      <td>63</td>\n",
       "    </tr>\n",
       "    <tr>\n",
       "      <th>Puzzle</th>\n",
       "      <td>10</td>\n",
       "    </tr>\n",
       "    <tr>\n",
       "      <th>Racing</th>\n",
       "      <td>167</td>\n",
       "    </tr>\n",
       "    <tr>\n",
       "      <th>Role-Playing</th>\n",
       "      <td>415</td>\n",
       "    </tr>\n",
       "    <tr>\n",
       "      <th>Shooter</th>\n",
       "      <td>340</td>\n",
       "    </tr>\n",
       "    <tr>\n",
       "      <th>Simulation</th>\n",
       "      <td>186</td>\n",
       "    </tr>\n",
       "    <tr>\n",
       "      <th>Sports</th>\n",
       "      <td>195</td>\n",
       "    </tr>\n",
       "    <tr>\n",
       "      <th>Strategy</th>\n",
       "      <td>160</td>\n",
       "    </tr>\n",
       "  </tbody>\n",
       "</table>\n",
       "</div>"
      ],
      "text/plain": [
       "                     name\n",
       "rating genre             \n",
       "AO     Action           1\n",
       "E      Action         410\n",
       "       Adventure      159\n",
       "       Fighting         8\n",
       "       Misc           449\n",
       "       Platform       354\n",
       "       Puzzle         284\n",
       "       Racing         576\n",
       "       Role-Playing    83\n",
       "       Shooter         47\n",
       "       Simulation     321\n",
       "       Sports        1162\n",
       "       Strategy        68\n",
       "E10+   Action         468\n",
       "       Adventure       67\n",
       "       Fighting        19\n",
       "       Misc           166\n",
       "       Platform       141\n",
       "       Puzzle          42\n",
       "       Racing          95\n",
       "       Role-Playing   111\n",
       "       Shooter         56\n",
       "       Simulation      47\n",
       "       Sports         105\n",
       "       Strategy        76\n",
       "EC     Action           1\n",
       "       Adventure        2\n",
       "       Misc             5\n",
       "K-A    Misc             1\n",
       "       Strategy         2\n",
       "M      Action         596\n",
       "       Adventure       98\n",
       "       Fighting        48\n",
       "       Misc            13\n",
       "       Platform         3\n",
       "       Racing          18\n",
       "       Role-Playing   161\n",
       "       Shooter        553\n",
       "       Simulation       5\n",
       "       Sports          16\n",
       "       Strategy        25\n",
       "RP     Strategy         1\n",
       "T      Action         670\n",
       "       Adventure      114\n",
       "       Fighting       357\n",
       "       Misc           228\n",
       "       Platform        63\n",
       "       Puzzle          10\n",
       "       Racing         167\n",
       "       Role-Playing   415\n",
       "       Shooter        340\n",
       "       Simulation     186\n",
       "       Sports         195\n",
       "       Strategy       160"
      ]
     },
     "execution_count": 15,
     "metadata": {},
     "output_type": "execute_result"
    }
   ],
   "source": [
    "df.pivot_table(index = ['rating', 'genre'], values = 'name', aggfunc = 'count')"
   ]
  },
  {
   "cell_type": "markdown",
   "id": "64f34da0",
   "metadata": {},
   "source": [
    "*Здесь мы видим, что есть очень малые группы значения рейтинга, они составляют пренебрежимо малую долю, их можно удалить.*"
   ]
  },
  {
   "cell_type": "markdown",
   "id": "efd73d67",
   "metadata": {},
   "source": [
    "*Пропусков в столбце rating дастаточно много, удалить их нельзя, и определить точно возрастную группу тоже нельзя. Поэтому пропуски в этом столбце будем заменять на \"неопределен\"*"
   ]
  },
  {
   "cell_type": "code",
   "execution_count": 16,
   "id": "89de4951",
   "metadata": {},
   "outputs": [],
   "source": [
    "#избавимся от редких значений\n",
    "df = df.loc[df['rating'] != ('K-A', 'RP', 'EC', 'AO')]"
   ]
  },
  {
   "cell_type": "code",
   "execution_count": 17,
   "id": "c6b4a122",
   "metadata": {},
   "outputs": [],
   "source": [
    "df['rating'] = df['rating'].fillna('неопределен')"
   ]
  },
  {
   "cell_type": "code",
   "execution_count": 19,
   "id": "f90b96ab",
   "metadata": {},
   "outputs": [
    {
     "data": {
      "text/plain": [
       "name                  0\n",
       "platform              0\n",
       "year_of_release       0\n",
       "genre                 0\n",
       "na_sales              0\n",
       "eu_sales              0\n",
       "jp_sales              0\n",
       "other_sales           0\n",
       "critic_score       8461\n",
       "user_score         8981\n",
       "rating                0\n",
       "dtype: int64"
      ]
     },
     "execution_count": 19,
     "metadata": {},
     "output_type": "execute_result"
    }
   ],
   "source": [
    "#Проверим пропуски\n",
    "df.isna().sum()"
   ]
  },
  {
   "cell_type": "markdown",
   "id": "be2b073e",
   "metadata": {},
   "source": [
    "#### 4. Посчитайте суммарные продажи во всех регионах и запишите их в отдельный столбец"
   ]
  },
  {
   "cell_type": "code",
   "execution_count": 20,
   "id": "779c826a",
   "metadata": {},
   "outputs": [],
   "source": [
    "df['sum_sales'] = df[['na_sales', 'eu_sales', 'jp_sales', 'other_sales']].sum(axis = 1)"
   ]
  },
  {
   "cell_type": "code",
   "execution_count": 21,
   "id": "3c9b43de",
   "metadata": {},
   "outputs": [
    {
     "data": {
      "text/html": [
       "<div>\n",
       "<style scoped>\n",
       "    .dataframe tbody tr th:only-of-type {\n",
       "        vertical-align: middle;\n",
       "    }\n",
       "\n",
       "    .dataframe tbody tr th {\n",
       "        vertical-align: top;\n",
       "    }\n",
       "\n",
       "    .dataframe thead th {\n",
       "        text-align: right;\n",
       "    }\n",
       "</style>\n",
       "<table border=\"1\" class=\"dataframe\">\n",
       "  <thead>\n",
       "    <tr style=\"text-align: right;\">\n",
       "      <th></th>\n",
       "      <th>name</th>\n",
       "      <th>platform</th>\n",
       "      <th>year_of_release</th>\n",
       "      <th>genre</th>\n",
       "      <th>na_sales</th>\n",
       "      <th>eu_sales</th>\n",
       "      <th>jp_sales</th>\n",
       "      <th>other_sales</th>\n",
       "      <th>critic_score</th>\n",
       "      <th>user_score</th>\n",
       "      <th>rating</th>\n",
       "      <th>sum_sales</th>\n",
       "    </tr>\n",
       "  </thead>\n",
       "  <tbody>\n",
       "    <tr>\n",
       "      <th>0</th>\n",
       "      <td>Wii Sports</td>\n",
       "      <td>Wii</td>\n",
       "      <td>2006</td>\n",
       "      <td>Sports</td>\n",
       "      <td>41.36</td>\n",
       "      <td>28.96</td>\n",
       "      <td>3.77</td>\n",
       "      <td>8.45</td>\n",
       "      <td>76.0</td>\n",
       "      <td>8.0</td>\n",
       "      <td>E</td>\n",
       "      <td>82.54</td>\n",
       "    </tr>\n",
       "    <tr>\n",
       "      <th>1</th>\n",
       "      <td>Super Mario Bros.</td>\n",
       "      <td>NES</td>\n",
       "      <td>1985</td>\n",
       "      <td>Platform</td>\n",
       "      <td>29.08</td>\n",
       "      <td>3.58</td>\n",
       "      <td>6.81</td>\n",
       "      <td>0.77</td>\n",
       "      <td>NaN</td>\n",
       "      <td>NaN</td>\n",
       "      <td>неопределен</td>\n",
       "      <td>40.24</td>\n",
       "    </tr>\n",
       "    <tr>\n",
       "      <th>2</th>\n",
       "      <td>Mario Kart Wii</td>\n",
       "      <td>Wii</td>\n",
       "      <td>2008</td>\n",
       "      <td>Racing</td>\n",
       "      <td>15.68</td>\n",
       "      <td>12.76</td>\n",
       "      <td>3.79</td>\n",
       "      <td>3.29</td>\n",
       "      <td>82.0</td>\n",
       "      <td>8.3</td>\n",
       "      <td>E</td>\n",
       "      <td>35.52</td>\n",
       "    </tr>\n",
       "    <tr>\n",
       "      <th>3</th>\n",
       "      <td>Wii Sports Resort</td>\n",
       "      <td>Wii</td>\n",
       "      <td>2009</td>\n",
       "      <td>Sports</td>\n",
       "      <td>15.61</td>\n",
       "      <td>10.93</td>\n",
       "      <td>3.28</td>\n",
       "      <td>2.95</td>\n",
       "      <td>80.0</td>\n",
       "      <td>8.0</td>\n",
       "      <td>E</td>\n",
       "      <td>32.77</td>\n",
       "    </tr>\n",
       "    <tr>\n",
       "      <th>4</th>\n",
       "      <td>Pokemon Red/Pokemon Blue</td>\n",
       "      <td>GB</td>\n",
       "      <td>1996</td>\n",
       "      <td>Role-Playing</td>\n",
       "      <td>11.27</td>\n",
       "      <td>8.89</td>\n",
       "      <td>10.22</td>\n",
       "      <td>1.00</td>\n",
       "      <td>NaN</td>\n",
       "      <td>NaN</td>\n",
       "      <td>неопределен</td>\n",
       "      <td>31.38</td>\n",
       "    </tr>\n",
       "  </tbody>\n",
       "</table>\n",
       "</div>"
      ],
      "text/plain": [
       "                       name platform  year_of_release         genre  na_sales  \\\n",
       "0                Wii Sports      Wii             2006        Sports     41.36   \n",
       "1         Super Mario Bros.      NES             1985      Platform     29.08   \n",
       "2            Mario Kart Wii      Wii             2008        Racing     15.68   \n",
       "3         Wii Sports Resort      Wii             2009        Sports     15.61   \n",
       "4  Pokemon Red/Pokemon Blue       GB             1996  Role-Playing     11.27   \n",
       "\n",
       "   eu_sales  jp_sales  other_sales  critic_score  user_score       rating  \\\n",
       "0     28.96      3.77         8.45          76.0         8.0            E   \n",
       "1      3.58      6.81         0.77           NaN         NaN  неопределен   \n",
       "2     12.76      3.79         3.29          82.0         8.3            E   \n",
       "3     10.93      3.28         2.95          80.0         8.0            E   \n",
       "4      8.89     10.22         1.00           NaN         NaN  неопределен   \n",
       "\n",
       "   sum_sales  \n",
       "0      82.54  \n",
       "1      40.24  \n",
       "2      35.52  \n",
       "3      32.77  \n",
       "4      31.38  "
      ]
     },
     "execution_count": 21,
     "metadata": {},
     "output_type": "execute_result"
    }
   ],
   "source": [
    "df.head()"
   ]
  },
  {
   "cell_type": "markdown",
   "id": "46be599f",
   "metadata": {},
   "source": [
    "**На стадии предобработки данных мы:**\n",
    "\n",
    "1. Перевели названия столбцов в нижний регистр\n",
    "2. Изменили типы данных в столбцах:\n",
    "\n",
    "    -year_of_release в int64. Так как в столбце был пропуски, перевод в обычный int вызывал ошибку;\n",
    " \n",
    "    -user_score в float, однако в этом столбце были значения \"tbd\". Они означают, что человек еще в раздумьях какую оценку нужно поставить. Поэтому значения \"tbd\" были заменены на NaN.\n",
    "3. Обработали пропуски в столбцах:\n",
    "\n",
    "    -name, genre, year_of_release были удалены, так как точно их заполнить невозможно. Пропусков было немного, так что на точность данных это не повлияет;\n",
    "    \n",
    "    -заполнение оценок пользователей и критиков в user_score, critic_score добавит \"шума\" в данные, поэтому пропуски в них мы сохранили.\n",
    "    \n",
    "    -в столбце rating удалили очень редкие значения, которые составляют пренебрежимо малую долю в данных;\n",
    "    \n",
    "    -rating заполнили значением \"неопределен\", так как возрастную группу определить точно нельзя.\n",
    "    \n",
    "4. Создали столбец sum_sales в котором находится суммарная продажа во всех регионах.\n"
   ]
  },
  {
   "cell_type": "markdown",
   "id": "8be2bd67",
   "metadata": {},
   "source": [
    "### Шаг 3. Исследовательский анализ данных"
   ]
  },
  {
   "cell_type": "markdown",
   "id": "af61f133",
   "metadata": {},
   "source": [
    "#### 1. Посмотрите, сколько игр выпускалось в разные годы. Важны ли данные за все периоды?\n"
   ]
  },
  {
   "cell_type": "code",
   "execution_count": 22,
   "id": "9fb4c3e9",
   "metadata": {},
   "outputs": [
    {
     "data": {
      "text/html": [
       "<div>\n",
       "<style scoped>\n",
       "    .dataframe tbody tr th:only-of-type {\n",
       "        vertical-align: middle;\n",
       "    }\n",
       "\n",
       "    .dataframe tbody tr th {\n",
       "        vertical-align: top;\n",
       "    }\n",
       "\n",
       "    .dataframe thead th {\n",
       "        text-align: right;\n",
       "    }\n",
       "</style>\n",
       "<table border=\"1\" class=\"dataframe\">\n",
       "  <thead>\n",
       "    <tr style=\"text-align: right;\">\n",
       "      <th></th>\n",
       "      <th>name</th>\n",
       "    </tr>\n",
       "    <tr>\n",
       "      <th>year_of_release</th>\n",
       "      <th></th>\n",
       "    </tr>\n",
       "  </thead>\n",
       "  <tbody>\n",
       "    <tr>\n",
       "      <th>1980</th>\n",
       "      <td>9</td>\n",
       "    </tr>\n",
       "    <tr>\n",
       "      <th>1981</th>\n",
       "      <td>46</td>\n",
       "    </tr>\n",
       "    <tr>\n",
       "      <th>1982</th>\n",
       "      <td>36</td>\n",
       "    </tr>\n",
       "    <tr>\n",
       "      <th>1983</th>\n",
       "      <td>17</td>\n",
       "    </tr>\n",
       "    <tr>\n",
       "      <th>1984</th>\n",
       "      <td>14</td>\n",
       "    </tr>\n",
       "    <tr>\n",
       "      <th>1985</th>\n",
       "      <td>14</td>\n",
       "    </tr>\n",
       "    <tr>\n",
       "      <th>1986</th>\n",
       "      <td>21</td>\n",
       "    </tr>\n",
       "    <tr>\n",
       "      <th>1987</th>\n",
       "      <td>16</td>\n",
       "    </tr>\n",
       "    <tr>\n",
       "      <th>1988</th>\n",
       "      <td>15</td>\n",
       "    </tr>\n",
       "    <tr>\n",
       "      <th>1989</th>\n",
       "      <td>17</td>\n",
       "    </tr>\n",
       "    <tr>\n",
       "      <th>1990</th>\n",
       "      <td>16</td>\n",
       "    </tr>\n",
       "    <tr>\n",
       "      <th>1991</th>\n",
       "      <td>41</td>\n",
       "    </tr>\n",
       "    <tr>\n",
       "      <th>1992</th>\n",
       "      <td>43</td>\n",
       "    </tr>\n",
       "    <tr>\n",
       "      <th>1993</th>\n",
       "      <td>60</td>\n",
       "    </tr>\n",
       "    <tr>\n",
       "      <th>1994</th>\n",
       "      <td>121</td>\n",
       "    </tr>\n",
       "    <tr>\n",
       "      <th>1995</th>\n",
       "      <td>219</td>\n",
       "    </tr>\n",
       "    <tr>\n",
       "      <th>1996</th>\n",
       "      <td>263</td>\n",
       "    </tr>\n",
       "    <tr>\n",
       "      <th>1997</th>\n",
       "      <td>289</td>\n",
       "    </tr>\n",
       "    <tr>\n",
       "      <th>1998</th>\n",
       "      <td>379</td>\n",
       "    </tr>\n",
       "    <tr>\n",
       "      <th>1999</th>\n",
       "      <td>338</td>\n",
       "    </tr>\n",
       "    <tr>\n",
       "      <th>2000</th>\n",
       "      <td>350</td>\n",
       "    </tr>\n",
       "    <tr>\n",
       "      <th>2001</th>\n",
       "      <td>482</td>\n",
       "    </tr>\n",
       "    <tr>\n",
       "      <th>2002</th>\n",
       "      <td>829</td>\n",
       "    </tr>\n",
       "    <tr>\n",
       "      <th>2003</th>\n",
       "      <td>775</td>\n",
       "    </tr>\n",
       "    <tr>\n",
       "      <th>2004</th>\n",
       "      <td>762</td>\n",
       "    </tr>\n",
       "    <tr>\n",
       "      <th>2005</th>\n",
       "      <td>939</td>\n",
       "    </tr>\n",
       "    <tr>\n",
       "      <th>2006</th>\n",
       "      <td>1006</td>\n",
       "    </tr>\n",
       "    <tr>\n",
       "      <th>2007</th>\n",
       "      <td>1197</td>\n",
       "    </tr>\n",
       "    <tr>\n",
       "      <th>2008</th>\n",
       "      <td>1427</td>\n",
       "    </tr>\n",
       "    <tr>\n",
       "      <th>2009</th>\n",
       "      <td>1426</td>\n",
       "    </tr>\n",
       "    <tr>\n",
       "      <th>2010</th>\n",
       "      <td>1255</td>\n",
       "    </tr>\n",
       "    <tr>\n",
       "      <th>2011</th>\n",
       "      <td>1136</td>\n",
       "    </tr>\n",
       "    <tr>\n",
       "      <th>2012</th>\n",
       "      <td>653</td>\n",
       "    </tr>\n",
       "    <tr>\n",
       "      <th>2013</th>\n",
       "      <td>544</td>\n",
       "    </tr>\n",
       "    <tr>\n",
       "      <th>2014</th>\n",
       "      <td>581</td>\n",
       "    </tr>\n",
       "    <tr>\n",
       "      <th>2015</th>\n",
       "      <td>606</td>\n",
       "    </tr>\n",
       "    <tr>\n",
       "      <th>2016</th>\n",
       "      <td>502</td>\n",
       "    </tr>\n",
       "  </tbody>\n",
       "</table>\n",
       "</div>"
      ],
      "text/plain": [
       "                 name\n",
       "year_of_release      \n",
       "1980                9\n",
       "1981               46\n",
       "1982               36\n",
       "1983               17\n",
       "1984               14\n",
       "1985               14\n",
       "1986               21\n",
       "1987               16\n",
       "1988               15\n",
       "1989               17\n",
       "1990               16\n",
       "1991               41\n",
       "1992               43\n",
       "1993               60\n",
       "1994              121\n",
       "1995              219\n",
       "1996              263\n",
       "1997              289\n",
       "1998              379\n",
       "1999              338\n",
       "2000              350\n",
       "2001              482\n",
       "2002              829\n",
       "2003              775\n",
       "2004              762\n",
       "2005              939\n",
       "2006             1006\n",
       "2007             1197\n",
       "2008             1427\n",
       "2009             1426\n",
       "2010             1255\n",
       "2011             1136\n",
       "2012              653\n",
       "2013              544\n",
       "2014              581\n",
       "2015              606\n",
       "2016              502"
      ]
     },
     "execution_count": 22,
     "metadata": {},
     "output_type": "execute_result"
    }
   ],
   "source": [
    "df.pivot_table(index = 'year_of_release', values = 'name', aggfunc= 'count')"
   ]
  },
  {
   "cell_type": "code",
   "execution_count": 23,
   "id": "0223f7c7",
   "metadata": {},
   "outputs": [
    {
     "data": {
      "image/png": "[encoded data removed]",
      "text/plain": [
       "<Figure size 432x288 with 1 Axes>"
      ]
     },
     "metadata": {
      "needs_background": "light"
     },
     "output_type": "display_data"
    }
   ],
   "source": [
    "df.pivot_table(index = 'year_of_release', values = 'name', aggfunc= 'count').plot(kind = 'bar', grid = True)\n",
    "plt.title('График выпуска игр по годам')\n",
    "plt.ylabel('количество')\n",
    "plt.xlabel('год')\n",
    "plt.show()"
   ]
  },
  {
   "cell_type": "markdown",
   "id": "dee7bb96",
   "metadata": {},
   "source": [
    "*В быстроразвивающейся сфере, как компьютереные игры, тренды быстро приходят и уходят, для дальнейшего анализа нам потребуются самые актуальные данные(последние 4-5 лет).*"
   ]
  },
  {
   "cell_type": "markdown",
   "id": "923239b1",
   "metadata": {},
   "source": [
    "#### 2. Посмотрите, как менялись продажи по платформам. Выберите платформы с наибольшими суммарными продажами и постройте распределение по годам. За какой характерный срок появляются новые и исчезают старые платформы?"
   ]
  },
  {
   "cell_type": "code",
   "execution_count": 24,
   "id": "268c2835",
   "metadata": {},
   "outputs": [
    {
     "data": {
      "text/html": [
       "<div>\n",
       "<style scoped>\n",
       "    .dataframe tbody tr th:only-of-type {\n",
       "        vertical-align: middle;\n",
       "    }\n",
       "\n",
       "    .dataframe tbody tr th {\n",
       "        vertical-align: top;\n",
       "    }\n",
       "\n",
       "    .dataframe thead th {\n",
       "        text-align: right;\n",
       "    }\n",
       "</style>\n",
       "<table border=\"1\" class=\"dataframe\">\n",
       "  <thead>\n",
       "    <tr style=\"text-align: right;\">\n",
       "      <th></th>\n",
       "      <th>eu_sales</th>\n",
       "      <th>jp_sales</th>\n",
       "      <th>na_sales</th>\n",
       "      <th>other_sales</th>\n",
       "      <th>sum_sales</th>\n",
       "    </tr>\n",
       "    <tr>\n",
       "      <th>platform</th>\n",
       "      <th></th>\n",
       "      <th></th>\n",
       "      <th></th>\n",
       "      <th></th>\n",
       "      <th></th>\n",
       "    </tr>\n",
       "  </thead>\n",
       "  <tbody>\n",
       "    <tr>\n",
       "      <th>PS2</th>\n",
       "      <td>332.63</td>\n",
       "      <td>137.54</td>\n",
       "      <td>572.92</td>\n",
       "      <td>190.47</td>\n",
       "      <td>1233.56</td>\n",
       "    </tr>\n",
       "    <tr>\n",
       "      <th>X360</th>\n",
       "      <td>268.32</td>\n",
       "      <td>12.30</td>\n",
       "      <td>595.74</td>\n",
       "      <td>84.88</td>\n",
       "      <td>961.24</td>\n",
       "    </tr>\n",
       "    <tr>\n",
       "      <th>PS3</th>\n",
       "      <td>327.21</td>\n",
       "      <td>79.41</td>\n",
       "      <td>390.13</td>\n",
       "      <td>134.59</td>\n",
       "      <td>931.34</td>\n",
       "    </tr>\n",
       "    <tr>\n",
       "      <th>Wii</th>\n",
       "      <td>258.32</td>\n",
       "      <td>68.28</td>\n",
       "      <td>486.87</td>\n",
       "      <td>77.71</td>\n",
       "      <td>891.18</td>\n",
       "    </tr>\n",
       "    <tr>\n",
       "      <th>DS</th>\n",
       "      <td>188.41</td>\n",
       "      <td>175.02</td>\n",
       "      <td>380.31</td>\n",
       "      <td>59.04</td>\n",
       "      <td>802.78</td>\n",
       "    </tr>\n",
       "    <tr>\n",
       "      <th>PS</th>\n",
       "      <td>212.39</td>\n",
       "      <td>139.78</td>\n",
       "      <td>334.72</td>\n",
       "      <td>40.69</td>\n",
       "      <td>727.58</td>\n",
       "    </tr>\n",
       "    <tr>\n",
       "      <th>PS4</th>\n",
       "      <td>141.09</td>\n",
       "      <td>15.96</td>\n",
       "      <td>108.74</td>\n",
       "      <td>48.35</td>\n",
       "      <td>314.14</td>\n",
       "    </tr>\n",
       "    <tr>\n",
       "      <th>GBA</th>\n",
       "      <td>74.59</td>\n",
       "      <td>46.56</td>\n",
       "      <td>184.12</td>\n",
       "      <td>7.61</td>\n",
       "      <td>312.88</td>\n",
       "    </tr>\n",
       "    <tr>\n",
       "      <th>PSP</th>\n",
       "      <td>65.62</td>\n",
       "      <td>75.88</td>\n",
       "      <td>107.27</td>\n",
       "      <td>40.76</td>\n",
       "      <td>289.53</td>\n",
       "    </tr>\n",
       "    <tr>\n",
       "      <th>3DS</th>\n",
       "      <td>61.27</td>\n",
       "      <td>100.62</td>\n",
       "      <td>82.65</td>\n",
       "      <td>13.27</td>\n",
       "      <td>257.81</td>\n",
       "    </tr>\n",
       "    <tr>\n",
       "      <th>PC</th>\n",
       "      <td>140.37</td>\n",
       "      <td>0.17</td>\n",
       "      <td>93.34</td>\n",
       "      <td>21.88</td>\n",
       "      <td>255.76</td>\n",
       "    </tr>\n",
       "    <tr>\n",
       "      <th>GB</th>\n",
       "      <td>47.51</td>\n",
       "      <td>85.12</td>\n",
       "      <td>113.64</td>\n",
       "      <td>8.16</td>\n",
       "      <td>254.43</td>\n",
       "    </tr>\n",
       "    <tr>\n",
       "      <th>XB</th>\n",
       "      <td>59.65</td>\n",
       "      <td>1.38</td>\n",
       "      <td>182.06</td>\n",
       "      <td>8.48</td>\n",
       "      <td>251.57</td>\n",
       "    </tr>\n",
       "    <tr>\n",
       "      <th>NES</th>\n",
       "      <td>21.15</td>\n",
       "      <td>98.65</td>\n",
       "      <td>125.94</td>\n",
       "      <td>5.31</td>\n",
       "      <td>251.05</td>\n",
       "    </tr>\n",
       "    <tr>\n",
       "      <th>N64</th>\n",
       "      <td>41.03</td>\n",
       "      <td>33.76</td>\n",
       "      <td>138.91</td>\n",
       "      <td>4.31</td>\n",
       "      <td>218.01</td>\n",
       "    </tr>\n",
       "    <tr>\n",
       "      <th>SNES</th>\n",
       "      <td>19.04</td>\n",
       "      <td>116.55</td>\n",
       "      <td>61.23</td>\n",
       "      <td>3.22</td>\n",
       "      <td>200.04</td>\n",
       "    </tr>\n",
       "    <tr>\n",
       "      <th>GC</th>\n",
       "      <td>38.32</td>\n",
       "      <td>21.34</td>\n",
       "      <td>131.94</td>\n",
       "      <td>5.13</td>\n",
       "      <td>196.73</td>\n",
       "    </tr>\n",
       "    <tr>\n",
       "      <th>XOne</th>\n",
       "      <td>51.59</td>\n",
       "      <td>0.34</td>\n",
       "      <td>93.12</td>\n",
       "      <td>14.27</td>\n",
       "      <td>159.32</td>\n",
       "    </tr>\n",
       "    <tr>\n",
       "      <th>2600</th>\n",
       "      <td>4.86</td>\n",
       "      <td>0.00</td>\n",
       "      <td>80.78</td>\n",
       "      <td>0.84</td>\n",
       "      <td>86.48</td>\n",
       "    </tr>\n",
       "    <tr>\n",
       "      <th>WiiU</th>\n",
       "      <td>25.13</td>\n",
       "      <td>13.01</td>\n",
       "      <td>38.10</td>\n",
       "      <td>5.95</td>\n",
       "      <td>82.19</td>\n",
       "    </tr>\n",
       "    <tr>\n",
       "      <th>PSV</th>\n",
       "      <td>13.07</td>\n",
       "      <td>21.84</td>\n",
       "      <td>12.47</td>\n",
       "      <td>6.43</td>\n",
       "      <td>53.81</td>\n",
       "    </tr>\n",
       "    <tr>\n",
       "      <th>SAT</th>\n",
       "      <td>0.54</td>\n",
       "      <td>32.26</td>\n",
       "      <td>0.72</td>\n",
       "      <td>0.07</td>\n",
       "      <td>33.59</td>\n",
       "    </tr>\n",
       "    <tr>\n",
       "      <th>GEN</th>\n",
       "      <td>5.52</td>\n",
       "      <td>2.67</td>\n",
       "      <td>19.27</td>\n",
       "      <td>0.89</td>\n",
       "      <td>28.35</td>\n",
       "    </tr>\n",
       "    <tr>\n",
       "      <th>DC</th>\n",
       "      <td>1.69</td>\n",
       "      <td>8.56</td>\n",
       "      <td>5.43</td>\n",
       "      <td>0.27</td>\n",
       "      <td>15.95</td>\n",
       "    </tr>\n",
       "    <tr>\n",
       "      <th>SCD</th>\n",
       "      <td>0.36</td>\n",
       "      <td>0.45</td>\n",
       "      <td>1.00</td>\n",
       "      <td>0.05</td>\n",
       "      <td>1.86</td>\n",
       "    </tr>\n",
       "    <tr>\n",
       "      <th>NG</th>\n",
       "      <td>0.00</td>\n",
       "      <td>1.44</td>\n",
       "      <td>0.00</td>\n",
       "      <td>0.00</td>\n",
       "      <td>1.44</td>\n",
       "    </tr>\n",
       "    <tr>\n",
       "      <th>WS</th>\n",
       "      <td>0.00</td>\n",
       "      <td>1.42</td>\n",
       "      <td>0.00</td>\n",
       "      <td>0.00</td>\n",
       "      <td>1.42</td>\n",
       "    </tr>\n",
       "    <tr>\n",
       "      <th>TG16</th>\n",
       "      <td>0.00</td>\n",
       "      <td>0.16</td>\n",
       "      <td>0.00</td>\n",
       "      <td>0.00</td>\n",
       "      <td>0.16</td>\n",
       "    </tr>\n",
       "    <tr>\n",
       "      <th>3DO</th>\n",
       "      <td>0.00</td>\n",
       "      <td>0.10</td>\n",
       "      <td>0.00</td>\n",
       "      <td>0.00</td>\n",
       "      <td>0.10</td>\n",
       "    </tr>\n",
       "    <tr>\n",
       "      <th>GG</th>\n",
       "      <td>0.00</td>\n",
       "      <td>0.04</td>\n",
       "      <td>0.00</td>\n",
       "      <td>0.00</td>\n",
       "      <td>0.04</td>\n",
       "    </tr>\n",
       "    <tr>\n",
       "      <th>PCFX</th>\n",
       "      <td>0.00</td>\n",
       "      <td>0.03</td>\n",
       "      <td>0.00</td>\n",
       "      <td>0.00</td>\n",
       "      <td>0.03</td>\n",
       "    </tr>\n",
       "  </tbody>\n",
       "</table>\n",
       "</div>"
      ],
      "text/plain": [
       "          eu_sales  jp_sales  na_sales  other_sales  sum_sales\n",
       "platform                                                      \n",
       "PS2         332.63    137.54    572.92       190.47    1233.56\n",
       "X360        268.32     12.30    595.74        84.88     961.24\n",
       "PS3         327.21     79.41    390.13       134.59     931.34\n",
       "Wii         258.32     68.28    486.87        77.71     891.18\n",
       "DS          188.41    175.02    380.31        59.04     802.78\n",
       "PS          212.39    139.78    334.72        40.69     727.58\n",
       "PS4         141.09     15.96    108.74        48.35     314.14\n",
       "GBA          74.59     46.56    184.12         7.61     312.88\n",
       "PSP          65.62     75.88    107.27        40.76     289.53\n",
       "3DS          61.27    100.62     82.65        13.27     257.81\n",
       "PC          140.37      0.17     93.34        21.88     255.76\n",
       "GB           47.51     85.12    113.64         8.16     254.43\n",
       "XB           59.65      1.38    182.06         8.48     251.57\n",
       "NES          21.15     98.65    125.94         5.31     251.05\n",
       "N64          41.03     33.76    138.91         4.31     218.01\n",
       "SNES         19.04    116.55     61.23         3.22     200.04\n",
       "GC           38.32     21.34    131.94         5.13     196.73\n",
       "XOne         51.59      0.34     93.12        14.27     159.32\n",
       "2600          4.86      0.00     80.78         0.84      86.48\n",
       "WiiU         25.13     13.01     38.10         5.95      82.19\n",
       "PSV          13.07     21.84     12.47         6.43      53.81\n",
       "SAT           0.54     32.26      0.72         0.07      33.59\n",
       "GEN           5.52      2.67     19.27         0.89      28.35\n",
       "DC            1.69      8.56      5.43         0.27      15.95\n",
       "SCD           0.36      0.45      1.00         0.05       1.86\n",
       "NG            0.00      1.44      0.00         0.00       1.44\n",
       "WS            0.00      1.42      0.00         0.00       1.42\n",
       "TG16          0.00      0.16      0.00         0.00       0.16\n",
       "3DO           0.00      0.10      0.00         0.00       0.10\n",
       "GG            0.00      0.04      0.00         0.00       0.04\n",
       "PCFX          0.00      0.03      0.00         0.00       0.03"
      ]
     },
     "execution_count": 24,
     "metadata": {},
     "output_type": "execute_result"
    }
   ],
   "source": [
    "df.pivot_table(index = ['platform'], values = ['na_sales', 'eu_sales', 'jp_sales', 'other_sales', 'sum_sales'], aggfunc = 'sum').sort_values(by = 'sum_sales', ascending = False)"
   ]
  },
  {
   "cell_type": "code",
   "execution_count": 25,
   "id": "bb133a40",
   "metadata": {},
   "outputs": [],
   "source": [
    "#выберем топ-10 платформ за все время\n",
    "df_top_platform = df.query(\"platform == ['PS2', 'X360', 'PS3', 'Wii', 'DS', 'PS', 'PS4', 'GBA', 'PSP', '3DS']\")"
   ]
  },
  {
   "cell_type": "code",
   "execution_count": 26,
   "id": "638d8f51",
   "metadata": {},
   "outputs": [
    {
     "data": {
      "image/png": "[encoded data removed]",
      "text/plain": [
       "<Figure size 432x288 with 1 Axes>"
      ]
     },
     "metadata": {
      "needs_background": "light"
     },
     "output_type": "display_data"
    }
   ],
   "source": [
    "df_top_platform.pivot_table(index = 'year_of_release', columns = 'platform', values = 'sum_sales', aggfunc = 'count').plot()\n",
    "plt.title('График жизненного цикла платформ')\n",
    "plt.ylabel('суммарная продажа, млн копий')\n",
    "plt.xlim([1993, 2016])\n",
    "plt.xlabel('год')\n",
    "plt.show()"
   ]
  },
  {
   "cell_type": "markdown",
   "id": "561a64c6",
   "metadata": {},
   "source": [
    "*Жизненный цикл платформ можно определить, как 6-10 лет. Причем, пика продаж платформы достигают за первые 2-4, а дальше продажи падают в нулевые значения.*"
   ]
  },
  {
   "cell_type": "markdown",
   "id": "9741444e",
   "metadata": {},
   "source": [
    "#### 3. Возьмите данные за соответствующий актуальный период. Актуальный период определите самостоятельно в результате исследования предыдущих вопросов. Основной фактор — эти данные помогут построить прогноз на 2017 год."
   ]
  },
  {
   "cell_type": "markdown",
   "id": "d4cf1e8e",
   "metadata": {},
   "source": [
    "*Исходя из вывода о жизненном цикле платформ, для дальнейшего анализа нам потребуются данные за последние 5 лет, остальные данные можно считать не актуальными для прогноза.*"
   ]
  },
  {
   "cell_type": "code",
   "execution_count": 27,
   "id": "c785b106",
   "metadata": {},
   "outputs": [],
   "source": [
    "#на всякий случай сохраним исходную таблицу в переменную df_all\n",
    "df_all = df\n",
    "df = df.loc[df['year_of_release'] >= 2012]"
   ]
  },
  {
   "cell_type": "markdown",
   "id": "92f91f04",
   "metadata": {},
   "source": [
    "#### 4. Какие платформы лидируют по продажам, растут или падают? Выберите несколько потенциально прибыльных платформ."
   ]
  },
  {
   "cell_type": "code",
   "execution_count": 28,
   "id": "2d4e6c0d",
   "metadata": {},
   "outputs": [
    {
     "data": {
      "image/png": "[encoded data removed]",
      "text/plain": [
       "<Figure size 432x288 with 1 Axes>"
      ]
     },
     "metadata": {
      "needs_background": "light"
     },
     "output_type": "display_data"
    }
   ],
   "source": [
    "df.pivot_table(index = ['year_of_release'], columns = ['platform'], values = 'sum_sales', aggfunc = 'sum').plot(grid = True)\n",
    "plt.title('График жизненного цикла платформ')\n",
    "plt.ylabel('суммарная продажа, млн копий')\n",
    "plt.xlabel('год')\n",
    "plt.show()"
   ]
  },
  {
   "cell_type": "code",
   "execution_count": 29,
   "id": "4965afdc",
   "metadata": {},
   "outputs": [
    {
     "data": {
      "text/html": [
       "<div>\n",
       "<style scoped>\n",
       "    .dataframe tbody tr th:only-of-type {\n",
       "        vertical-align: middle;\n",
       "    }\n",
       "\n",
       "    .dataframe tbody tr th {\n",
       "        vertical-align: top;\n",
       "    }\n",
       "\n",
       "    .dataframe thead th {\n",
       "        text-align: right;\n",
       "    }\n",
       "</style>\n",
       "<table border=\"1\" class=\"dataframe\">\n",
       "  <thead>\n",
       "    <tr style=\"text-align: right;\">\n",
       "      <th></th>\n",
       "      <th>sum_sales</th>\n",
       "    </tr>\n",
       "    <tr>\n",
       "      <th>platform</th>\n",
       "      <th></th>\n",
       "    </tr>\n",
       "  </thead>\n",
       "  <tbody>\n",
       "    <tr>\n",
       "      <th>PS4</th>\n",
       "      <td>314.14</td>\n",
       "    </tr>\n",
       "    <tr>\n",
       "      <th>PS3</th>\n",
       "      <td>288.79</td>\n",
       "    </tr>\n",
       "    <tr>\n",
       "      <th>X360</th>\n",
       "      <td>236.54</td>\n",
       "    </tr>\n",
       "    <tr>\n",
       "      <th>3DS</th>\n",
       "      <td>194.61</td>\n",
       "    </tr>\n",
       "    <tr>\n",
       "      <th>XOne</th>\n",
       "      <td>159.32</td>\n",
       "    </tr>\n",
       "    <tr>\n",
       "      <th>WiiU</th>\n",
       "      <td>82.19</td>\n",
       "    </tr>\n",
       "    <tr>\n",
       "      <th>PC</th>\n",
       "      <td>62.65</td>\n",
       "    </tr>\n",
       "    <tr>\n",
       "      <th>PSV</th>\n",
       "      <td>49.18</td>\n",
       "    </tr>\n",
       "    <tr>\n",
       "      <th>Wii</th>\n",
       "      <td>35.37</td>\n",
       "    </tr>\n",
       "    <tr>\n",
       "      <th>DS</th>\n",
       "      <td>12.55</td>\n",
       "    </tr>\n",
       "    <tr>\n",
       "      <th>PSP</th>\n",
       "      <td>11.19</td>\n",
       "    </tr>\n",
       "  </tbody>\n",
       "</table>\n",
       "</div>"
      ],
      "text/plain": [
       "          sum_sales\n",
       "platform           \n",
       "PS4          314.14\n",
       "PS3          288.79\n",
       "X360         236.54\n",
       "3DS          194.61\n",
       "XOne         159.32\n",
       "WiiU          82.19\n",
       "PC            62.65\n",
       "PSV           49.18\n",
       "Wii           35.37\n",
       "DS            12.55\n",
       "PSP           11.19"
      ]
     },
     "execution_count": 29,
     "metadata": {},
     "output_type": "execute_result"
    }
   ],
   "source": [
    "df.pivot_table(index = 'platform', values = 'sum_sales', aggfunc = 'sum').sort_values(by = 'sum_sales', ascending = False)"
   ]
  },
  {
   "cell_type": "markdown",
   "id": "689c41eb",
   "metadata": {},
   "source": [
    "*к 2016 году \"на плаву\" платформы PS4 и XOne. Однако стоит отметить, что все все плафтормы по прадажам стремятся вниз. Оставим такой топ-10, не будем его уменьшать.*"
   ]
  },
  {
   "cell_type": "markdown",
   "id": "5508eb8e",
   "metadata": {},
   "source": [
    "#### 4. Постройте график «ящик с усами» по глобальным продажам игр в разбивке по платформам. Опишите результат."
   ]
  },
  {
   "cell_type": "code",
   "execution_count": 30,
   "id": "1dfe47d9",
   "metadata": {},
   "outputs": [
    {
     "data": {
      "image/png": "[encoded data removed]",
      "text/plain": [
       "<Figure size 1080x576 with 1 Axes>"
      ]
     },
     "metadata": {
      "needs_background": "light"
     },
     "output_type": "display_data"
    }
   ],
   "source": [
    "plt.figure(figsize=(15,8))\n",
    "sns.boxplot(data=df, x='platform', y='sum_sales');\n",
    "plt.title('Объем продаж по актуальным топ-5 платформам', fontsize=15)\n",
    "plt.xlabel('Платформа', fontsize=12)\n",
    "plt.ylabel('Объем продаж',fontsize=12)\n",
    "plt.show()\n"
   ]
  },
  {
   "cell_type": "markdown",
   "id": "17dc22cc",
   "metadata": {},
   "source": [
    "*Диаграмма размаха показывает нам выбивающиеся значения по каждой платформе, однако этими выбросами можем пренебреч или считать их достоверными, так как они, скорее всего, показывают нам очень ожидаемые игры, которые выходят именно для данных платформ.*"
   ]
  },
  {
   "cell_type": "code",
   "execution_count": 31,
   "id": "368abc25",
   "metadata": {},
   "outputs": [
    {
     "data": {
      "image/png": "[encoded data removed]",
      "text/plain": [
       "<Figure size 1080x576 with 1 Axes>"
      ]
     },
     "metadata": {
      "needs_background": "light"
     },
     "output_type": "display_data"
    }
   ],
   "source": [
    "#Сделаем дополнительную диаграмму размаха, которая покажет нижнюю часть диаграмм размаха\n",
    "plt.figure(figsize=(15,8))\n",
    "sns.boxplot(data=df, x='platform', y='sum_sales');\n",
    "plt.ylim(0, 1)\n",
    "plt.title('Объем продаж по актуальным топ-5 платформам', fontsize=15)\n",
    "plt.xlabel('Платформа', fontsize=12)\n",
    "plt.ylabel('Объем продаж',fontsize=12)\n",
    "plt.show()"
   ]
  },
  {
   "cell_type": "markdown",
   "id": "bac43574",
   "metadata": {},
   "source": [
    "*по данным за последние 5 лет, **лучшим считается X360, его медиана и 75% процентиль имеет наибольшее значение**. Далее можно отметить топ-5 платформ:*\n",
    "\n",
    "    - с наибольшей медианой - это Xone, WiiU, PS4, PS3;\n",
    "    - с наибольшим 75% процентилем - PS4, XOne, Wii, PS3."
   ]
  },
  {
   "cell_type": "markdown",
   "id": "2b421f2c",
   "metadata": {},
   "source": [
    "#### 5. Посмотрите, как влияют на продажи внутри одной популярной платформы отзывы пользователей и критиков. Постройте диаграмму рассеяния и посчитайте корреляцию между отзывами и продажами. Сформулируйте выводы."
   ]
  },
  {
   "cell_type": "markdown",
   "id": "61ac57c0",
   "metadata": {},
   "source": [
    "Возьмем самую популярную плафторму из нашего списка - PS4. Далее анализ будем проводить по ней."
   ]
  },
  {
   "cell_type": "code",
   "execution_count": 32,
   "id": "9e293509",
   "metadata": {},
   "outputs": [
    {
     "data": {
      "image/png": "[encoded data removed]",
      "text/plain": [
       "<Figure size 432x288 with 1 Axes>"
      ]
     },
     "metadata": {
      "needs_background": "light"
     },
     "output_type": "display_data"
    }
   ],
   "source": [
    "#построим диаграммы рассеивания по отзывам пользователей и критиков\n",
    "df_ps4 = df.query(\"platform == 'PS4'\")\n",
    "df_ps4.plot(x = 'sum_sales', y = 'user_score', kind = 'scatter', grid = True)\n",
    "plt.title('PS4 Диаграмма рассеивания по оценкам пользователей', fontsize=15)\n",
    "plt.xlabel('Объем продаж', fontsize=12)\n",
    "plt.ylabel('оценки клиентов',fontsize=12)\n",
    "plt.show()"
   ]
  },
  {
   "cell_type": "code",
   "execution_count": 33,
   "id": "115a4352",
   "metadata": {},
   "outputs": [
    {
     "data": {
      "image/png": "[encoded data removed]",
      "text/plain": [
       "<Figure size 432x288 with 1 Axes>"
      ]
     },
     "metadata": {
      "needs_background": "light"
     },
     "output_type": "display_data"
    }
   ],
   "source": [
    "df_ps4.plot(x = 'sum_sales', y = 'critic_score', kind = 'scatter', grid = True)\n",
    "plt.title('PS4 Диаграмма рассеивания по оценкам критиков', fontsize=15)\n",
    "plt.xlabel('Объем продаж', fontsize=12)\n",
    "plt.ylabel('оценки критиков',fontsize=12)\n",
    "plt.show()"
   ]
  },
  {
   "cell_type": "code",
   "execution_count": 34,
   "id": "95b79619",
   "metadata": {},
   "outputs": [
    {
     "data": {
      "text/plain": [
       "-0.031957110204556376"
      ]
     },
     "execution_count": 34,
     "metadata": {},
     "output_type": "execute_result"
    }
   ],
   "source": [
    "#посмотрим на коэффициенты корреляции\n",
    "df_ps4['sum_sales'].corr(df_ps4['user_score'])"
   ]
  },
  {
   "cell_type": "code",
   "execution_count": 35,
   "id": "785bf8e0",
   "metadata": {},
   "outputs": [
    {
     "data": {
      "text/plain": [
       "0.406567902061781"
      ]
     },
     "execution_count": 35,
     "metadata": {},
     "output_type": "execute_result"
    }
   ],
   "source": [
    "df_ps4['sum_sales'].corr(df_ps4['critic_score'])"
   ]
  },
  {
   "cell_type": "markdown",
   "id": "e18e6a38",
   "metadata": {},
   "source": [
    "*По диаграммам рассеивания и коэффициентам корреляции можно сделать вывод:*\n",
    "\n",
    "*- оценки пользователей не влияют на показатель продаж. Корреляция очень слабая 0.03;*\n",
    "\n",
    "*- оценки критиков частично влияют на показатель продаж. Корреляции слабая 0.4.*\n"
   ]
  },
  {
   "cell_type": "markdown",
   "id": "52c825e4",
   "metadata": {},
   "source": [
    "#### 6. Соотнесите выводы с продажами игр на других платформах."
   ]
  },
  {
   "cell_type": "markdown",
   "id": "e80c38ed",
   "metadata": {},
   "source": [
    "*рассмотрим платформы XOne, 3DS, X360, PS3, WiiU*"
   ]
  },
  {
   "cell_type": "code",
   "execution_count": 36,
   "id": "f386c0de",
   "metadata": {},
   "outputs": [],
   "source": [
    "df_xone = df.query(\"platform == 'XOne'\")\n",
    "df_3ds = df.query(\"platform == '3DS'\")\n",
    "df_x360 = df.query(\"platform == 'X360'\")\n",
    "df_ps3 = df.query(\"platform == 'PS3'\")\n",
    "df_wiiu = df.query(\"platform == 'WiiU'\")"
   ]
  },
  {
   "cell_type": "markdown",
   "id": "032835f0",
   "metadata": {},
   "source": [
    "**Платформа XOne**"
   ]
  },
  {
   "cell_type": "code",
   "execution_count": 37,
   "id": "5c9fddbd",
   "metadata": {},
   "outputs": [
    {
     "data": {
      "image/png": "[encoded data removed]",
      "text/plain": [
       "<Figure size 432x288 with 1 Axes>"
      ]
     },
     "metadata": {
      "needs_background": "light"
     },
     "output_type": "display_data"
    }
   ],
   "source": [
    "df_xone.plot(x = 'sum_sales', y = 'user_score', kind = 'scatter', grid = True)\n",
    "plt.title('XOne Диаграмма рассеивания по оценкам пользователей', fontsize=15)\n",
    "plt.xlabel('Объем продаж', fontsize=12)\n",
    "plt.ylabel('оценки клиентов',fontsize=12)\n",
    "plt.show()"
   ]
  },
  {
   "cell_type": "code",
   "execution_count": 38,
   "id": "bb0020f9",
   "metadata": {},
   "outputs": [
    {
     "data": {
      "image/png": "[encoded data removed]",
      "text/plain": [
       "<Figure size 432x288 with 1 Axes>"
      ]
     },
     "metadata": {
      "needs_background": "light"
     },
     "output_type": "display_data"
    }
   ],
   "source": [
    "df_xone.plot(x = 'sum_sales', y = 'critic_score', kind = 'scatter', grid = True)\n",
    "plt.title('XOne Диаграмма рассеивания по оценкам критиков', fontsize=15)\n",
    "plt.xlabel('Объем продаж', fontsize=12)\n",
    "plt.ylabel('оценки критиков',fontsize=12)\n",
    "plt.show()"
   ]
  },
  {
   "cell_type": "code",
   "execution_count": 39,
   "id": "5175f58f",
   "metadata": {},
   "outputs": [
    {
     "data": {
      "text/plain": [
       "-0.06892505328279412"
      ]
     },
     "execution_count": 39,
     "metadata": {},
     "output_type": "execute_result"
    }
   ],
   "source": [
    "df_xone['sum_sales'].corr(df_xone['user_score'])"
   ]
  },
  {
   "cell_type": "code",
   "execution_count": 40,
   "id": "0e0c8070",
   "metadata": {},
   "outputs": [
    {
     "data": {
      "text/plain": [
       "0.41699832800840175"
      ]
     },
     "execution_count": 40,
     "metadata": {},
     "output_type": "execute_result"
    }
   ],
   "source": [
    "df_xone['sum_sales'].corr(df_xone['critic_score'])"
   ]
  },
  {
   "cell_type": "markdown",
   "id": "6b02fe0f",
   "metadata": {},
   "source": [
    "*Сравнивнивая результаты у платформ PS4 и XOne, видим похожие графики и коэффициенты. Выводы можно сделать схожие:*\n",
    "\n",
    "*- оценки пользователей не влияют на показатель продаж. Корреляция очень слабая 0.06;*\n",
    "\n",
    "*- оценки критиков частично влияют на показатель продаж. Корреляции слабая 0.41.*\n"
   ]
  },
  {
   "cell_type": "markdown",
   "id": "af9d079d",
   "metadata": {},
   "source": [
    "**Платформа 3DS**"
   ]
  },
  {
   "cell_type": "code",
   "execution_count": 41,
   "id": "1daf2e6e",
   "metadata": {},
   "outputs": [
    {
     "data": {
      "image/png": "[encoded data removed]",
      "text/plain": [
       "<Figure size 432x288 with 1 Axes>"
      ]
     },
     "metadata": {
      "needs_background": "light"
     },
     "output_type": "display_data"
    }
   ],
   "source": [
    "df_3ds.plot(x = 'sum_sales', y = 'user_score', kind = 'scatter', grid = True)\n",
    "plt.title('3DS Диаграмма рассеивания по оценкам пользователей', fontsize=15)\n",
    "plt.xlabel('Объем продаж', fontsize=12)\n",
    "plt.ylabel('оценки клиентов',fontsize=12)\n",
    "plt.show()"
   ]
  },
  {
   "cell_type": "code",
   "execution_count": 42,
   "id": "79829885",
   "metadata": {},
   "outputs": [
    {
     "data": {
      "image/png": "[encoded data removed]",
      "text/plain": [
       "<Figure size 432x288 with 1 Axes>"
      ]
     },
     "metadata": {
      "needs_background": "light"
     },
     "output_type": "display_data"
    }
   ],
   "source": [
    "df_3ds.plot(x = 'sum_sales', y = 'critic_score', kind = 'scatter', grid = True)\n",
    "plt.title('3DS Диаграмма рассеивания по оценкам критиков', fontsize=15)\n",
    "plt.xlabel('Объем продаж', fontsize=12)\n",
    "plt.ylabel('оценки критиков',fontsize=12)\n",
    "plt.show()"
   ]
  },
  {
   "cell_type": "code",
   "execution_count": 43,
   "id": "a0e74f29",
   "metadata": {},
   "outputs": [
    {
     "data": {
      "text/plain": [
       "0.19758263411038596"
      ]
     },
     "execution_count": 43,
     "metadata": {},
     "output_type": "execute_result"
    }
   ],
   "source": [
    "df_3ds['sum_sales'].corr(df_3ds['user_score'])"
   ]
  },
  {
   "cell_type": "code",
   "execution_count": 44,
   "id": "60024efd",
   "metadata": {},
   "outputs": [
    {
     "data": {
      "text/plain": [
       "0.32080286953607845"
      ]
     },
     "execution_count": 44,
     "metadata": {},
     "output_type": "execute_result"
    }
   ],
   "source": [
    "df_3ds['sum_sales'].corr(df_3ds['critic_score'])"
   ]
  },
  {
   "cell_type": "markdown",
   "id": "76a13d81",
   "metadata": {},
   "source": [
    "*Сравнивнивая результаты у платформ PS4 и 3DS, тоже видим похожие графики и коэффициенты. Выводы можно сделать схожие:*\n",
    "\n",
    "*- оценки пользователей не влияют на показатель продаж. Корреляция очень слабая 0.19;*\n",
    "\n",
    "*- оценки критиков частично влияют на показатель продаж. Корреляции слабая 0.32.*"
   ]
  },
  {
   "cell_type": "markdown",
   "id": "c479840b",
   "metadata": {},
   "source": [
    "**Платформа X360**"
   ]
  },
  {
   "cell_type": "code",
   "execution_count": 45,
   "id": "13ae1610",
   "metadata": {},
   "outputs": [
    {
     "data": {
      "image/png": "[encoded data removed]",
      "text/plain": [
       "<Figure size 432x288 with 1 Axes>"
      ]
     },
     "metadata": {
      "needs_background": "light"
     },
     "output_type": "display_data"
    }
   ],
   "source": [
    "df_x360.plot(x = 'sum_sales', y = 'user_score', kind = 'scatter', grid = True)\n",
    "plt.title('X360 Диаграмма рассеивания по оценкам пользователей', fontsize=15)\n",
    "plt.xlabel('Объем продаж', fontsize=12)\n",
    "plt.ylabel('оценки клиентов',fontsize=12)\n",
    "plt.show()"
   ]
  },
  {
   "cell_type": "code",
   "execution_count": 46,
   "id": "4f9a0cc1",
   "metadata": {},
   "outputs": [
    {
     "data": {
      "image/png": "[encoded data removed]",
      "text/plain": [
       "<Figure size 432x288 with 1 Axes>"
      ]
     },
     "metadata": {
      "needs_background": "light"
     },
     "output_type": "display_data"
    }
   ],
   "source": [
    "df_x360.plot(x = 'sum_sales', y = 'critic_score', kind = 'scatter', grid = True)\n",
    "plt.title('X360 Диаграмма рассеивания по оценкам критиков', fontsize=15)\n",
    "plt.xlabel('Объем продаж', fontsize=12)\n",
    "plt.ylabel('оценки критиков',fontsize=12)\n",
    "plt.show()"
   ]
  },
  {
   "cell_type": "code",
   "execution_count": 47,
   "id": "a70805c1",
   "metadata": {},
   "outputs": [
    {
     "data": {
      "text/plain": [
       "0.0061639786462133256"
      ]
     },
     "execution_count": 47,
     "metadata": {},
     "output_type": "execute_result"
    }
   ],
   "source": [
    "df_x360['sum_sales'].corr(df_x360['user_score'])"
   ]
  },
  {
   "cell_type": "code",
   "execution_count": 48,
   "id": "40deb029",
   "metadata": {},
   "outputs": [
    {
     "data": {
      "text/plain": [
       "0.36057348885073365"
      ]
     },
     "execution_count": 48,
     "metadata": {},
     "output_type": "execute_result"
    }
   ],
   "source": [
    "df_x360['sum_sales'].corr(df_x360['critic_score'])"
   ]
  },
  {
   "cell_type": "markdown",
   "id": "f5c888a7",
   "metadata": {},
   "source": [
    "*Сравнивнивая результаты у платформ PS4 и X360, тоже видим похожие графики и коэффициенты. Выводы можно сделать схожие:*\n",
    "\n",
    "*- оценки пользователей не влияют на показатель продаж. Корреляция очень слабая 0.006;*\n",
    "\n",
    "*- оценки критиков частично влияют на показатель продаж. Корреляции слабая 0.36.*"
   ]
  },
  {
   "cell_type": "markdown",
   "id": "0bc241d7",
   "metadata": {},
   "source": [
    "**Платформа PS3**"
   ]
  },
  {
   "cell_type": "code",
   "execution_count": 49,
   "id": "28bf2804",
   "metadata": {},
   "outputs": [
    {
     "data": {
      "image/png": "[encoded data removed]",
      "text/plain": [
       "<Figure size 432x288 with 1 Axes>"
      ]
     },
     "metadata": {
      "needs_background": "light"
     },
     "output_type": "display_data"
    }
   ],
   "source": [
    "df_ps3.plot(x = 'sum_sales', y = 'user_score', kind = 'scatter', grid = True)\n",
    "plt.title('PS3 Диаграмма рассеивания по оценкам пользователей', fontsize=15)\n",
    "plt.xlabel('Объем продаж', fontsize=12)\n",
    "plt.ylabel('оценки клиентов',fontsize=12)\n",
    "plt.show()"
   ]
  },
  {
   "cell_type": "code",
   "execution_count": 50,
   "id": "02c88c3e",
   "metadata": {},
   "outputs": [
    {
     "data": {
      "image/png": "[encoded data removed]",
      "text/plain": [
       "<Figure size 432x288 with 1 Axes>"
      ]
     },
     "metadata": {
      "needs_background": "light"
     },
     "output_type": "display_data"
    }
   ],
   "source": [
    "df_ps3.plot(x = 'sum_sales', y = 'critic_score', kind = 'scatter', grid = True)\n",
    "plt.title('PS3 Диаграмма рассеивания по оценкам критиков', fontsize=15)\n",
    "plt.xlabel('Объем продаж', fontsize=12)\n",
    "plt.ylabel('оценки критиков',fontsize=12)\n",
    "plt.show()"
   ]
  },
  {
   "cell_type": "code",
   "execution_count": 51,
   "id": "02d702c1",
   "metadata": {},
   "outputs": [
    {
     "data": {
      "text/plain": [
       "-0.005143522887113828"
      ]
     },
     "execution_count": 51,
     "metadata": {},
     "output_type": "execute_result"
    }
   ],
   "source": [
    "df_ps3['sum_sales'].corr(df_ps3['user_score'])"
   ]
  },
  {
   "cell_type": "code",
   "execution_count": 52,
   "id": "6662f829",
   "metadata": {},
   "outputs": [
    {
     "data": {
      "text/plain": [
       "0.3314972592629587"
      ]
     },
     "execution_count": 52,
     "metadata": {},
     "output_type": "execute_result"
    }
   ],
   "source": [
    "df_ps3['sum_sales'].corr(df_ps3['critic_score'])"
   ]
  },
  {
   "cell_type": "markdown",
   "id": "6ec9acb4",
   "metadata": {},
   "source": [
    "*Сравнивнивая результаты у платформ PS4 и PS3, тоже видим похожие графики и коэффициенты. Выводы можно сделать схожие:*\n",
    "\n",
    "*- оценки пользователей не влияют на показатель продаж. Корреляция очень слабая 0.005;*\n",
    "\n",
    "*- оценки критиков частично влияют на показатель продаж. Корреляции слабая 0.33.*"
   ]
  },
  {
   "cell_type": "markdown",
   "id": "e74ef0c2",
   "metadata": {},
   "source": [
    "**Платформа WiiU**"
   ]
  },
  {
   "cell_type": "code",
   "execution_count": 53,
   "id": "bd4f6afa",
   "metadata": {},
   "outputs": [
    {
     "data": {
      "image/png": "[encoded data removed]",
      "text/plain": [
       "<Figure size 432x288 with 1 Axes>"
      ]
     },
     "metadata": {
      "needs_background": "light"
     },
     "output_type": "display_data"
    }
   ],
   "source": [
    "df_wiiu.plot(x = 'sum_sales', y = 'user_score', kind = 'scatter', grid = True)\n",
    "plt.title('WiiU Диаграмма рассеивания по оценкам пользователей', fontsize=15)\n",
    "plt.xlabel('Объем продаж', fontsize=12)\n",
    "plt.ylabel('оценки клиентов',fontsize=12)\n",
    "plt.show()"
   ]
  },
  {
   "cell_type": "code",
   "execution_count": 54,
   "id": "0ded1bc3",
   "metadata": {},
   "outputs": [
    {
     "data": {
      "image/png": "[encoded data removed]",
      "text/plain": [
       "<Figure size 432x288 with 1 Axes>"
      ]
     },
     "metadata": {
      "needs_background": "light"
     },
     "output_type": "display_data"
    }
   ],
   "source": [
    "df_wiiu.plot(x = 'sum_sales', y = 'critic_score', kind = 'scatter', grid = True)\n",
    "plt.title('WiiU Диаграмма рассеивания по оценкам критиков', fontsize=15)\n",
    "plt.xlabel('Объем продаж', fontsize=12)\n",
    "plt.ylabel('оценки критиков',fontsize=12)\n",
    "plt.show()"
   ]
  },
  {
   "cell_type": "code",
   "execution_count": 55,
   "id": "db9a7a7f",
   "metadata": {},
   "outputs": [
    {
     "data": {
      "text/plain": [
       "0.4002190202148617"
      ]
     },
     "execution_count": 55,
     "metadata": {},
     "output_type": "execute_result"
    }
   ],
   "source": [
    "df_wiiu['sum_sales'].corr(df_wiiu['user_score'])"
   ]
  },
  {
   "cell_type": "code",
   "execution_count": 56,
   "id": "507ca180",
   "metadata": {},
   "outputs": [
    {
     "data": {
      "text/plain": [
       "0.3483797601201749"
      ]
     },
     "execution_count": 56,
     "metadata": {},
     "output_type": "execute_result"
    }
   ],
   "source": [
    "df_wiiu['sum_sales'].corr(df_wiiu['critic_score'])"
   ]
  },
  {
   "cell_type": "markdown",
   "id": "f16912d0",
   "metadata": {},
   "source": [
    "*Сравнивнивая результаты у платформ PS4 и WiiU, тоже видим похожие графики и коэффициенты. Выводы можно сделать схожие:*\n",
    "\n",
    "*- оценки пользователей не влияют на показатель продаж. Корреляция слабая 0.4;*\n",
    "\n",
    "*- оценки критиков частично влияют на показатель продаж. Корреляции слабая 0.34.*"
   ]
  },
  {
   "cell_type": "markdown",
   "id": "0dbb192c",
   "metadata": {},
   "source": [
    "*Рассмотрев еще 5 платформ можно сказать, что выводы по каждой платформе схожие. Корреляции слабо выражены. Диаграммы рассеивания похожи. Это говорит о том, что оценки пользователей и критиков, слабо влиют на продажу игр на разные платформы*\n",
    "\n"
   ]
  },
  {
   "cell_type": "markdown",
   "id": "3635fd79",
   "metadata": {},
   "source": [
    "#### 7. Посмотрите на общее распределение игр по жанрам. Что можно сказать о самых прибыльных жанрах? Выделяются ли жанры с высокими и низкими продажами?"
   ]
  },
  {
   "cell_type": "code",
   "execution_count": 57,
   "id": "a3ac573b",
   "metadata": {},
   "outputs": [
    {
     "data": {
      "image/png": "[encoded data removed]",
      "text/plain": [
       "<Figure size 432x288 with 1 Axes>"
      ]
     },
     "metadata": {
      "needs_background": "light"
     },
     "output_type": "display_data"
    }
   ],
   "source": [
    "df.value_counts('genre').plot(kind = 'bar', grid = True)\n",
    "plt.title('График распределения игр по жанрам', fontsize=15)\n",
    "plt.xlabel('Жанр', fontsize=12)\n",
    "plt.ylabel('Количество игр, шт',fontsize=12)\n",
    "plt.show()"
   ]
  },
  {
   "cell_type": "markdown",
   "id": "f0713c61",
   "metadata": {},
   "source": [
    "*топ-5 популярных жанров за последние 5 лет это action, role-playing, adventure, sports, shooter.*"
   ]
  },
  {
   "cell_type": "code",
   "execution_count": 58,
   "id": "6db529d6",
   "metadata": {},
   "outputs": [
    {
     "data": {
      "image/png": "[encoded data removed]",
      "text/plain": [
       "<Figure size 432x288 with 1 Axes>"
      ]
     },
     "metadata": {
      "needs_background": "light"
     },
     "output_type": "display_data"
    }
   ],
   "source": [
    "#составим сводную таблицу и по ней построим barplot\n",
    "df.pivot_table(index = 'genre', values = 'sum_sales', aggfunc = 'median').sort_values(by = 'sum_sales', ascending = False).plot(kind = 'bar', grid = True)\n",
    "plt.title('График прибыльности жанров', fontsize=15)\n",
    "plt.xlabel('Жанр', fontsize=12)\n",
    "plt.ylabel('Прибыльность, млн копий',fontsize=12)\n",
    "plt.show()"
   ]
  },
  {
   "cell_type": "markdown",
   "id": "e82633d6",
   "metadata": {},
   "source": [
    "*топ-5 самых прибыльных жанров это shooter, sports, platform, role-playing, racing.*"
   ]
  },
  {
   "cell_type": "code",
   "execution_count": 59,
   "id": "cead3d17",
   "metadata": {},
   "outputs": [
    {
     "data": {
      "image/png": "[encoded data removed]",
      "text/plain": [
       "<Figure size 432x288 with 1 Axes>"
      ]
     },
     "metadata": {
      "needs_background": "light"
     },
     "output_type": "display_data"
    }
   ],
   "source": [
    "df_pop_genre = df.pivot_table(index = 'genre', values = 'sum_sales', aggfunc = ['median', 'count'])\n",
    "df_pop_genre.columns = ['median_sum_sales', 'count']\n",
    "df_pop_genre['prod'] = df_pop_genre['median_sum_sales'] * df_pop_genre['count']\n",
    "df_pop_genre.sort_values(by = 'prod', ascending = False).plot(y = 'prod', kind = 'bar', grid = True)\n",
    "plt.title('Прибыльность жанров без выбросов', fontsize=15)\n",
    "plt.xlabel('Жанр', fontsize=12)\n",
    "plt.ylabel('Прибыльность, млн копий',fontsize=12)\n",
    "plt.show()"
   ]
  },
  {
   "cell_type": "markdown",
   "id": "3f2431e7",
   "metadata": {},
   "source": [
    "*По графику прибыльности жанров без выбросов, можно сказать что:*\n",
    "\n",
    "*- прибыльными будут жанры Action, Shooter, Sports;*\n",
    "\n",
    "*- низкоприбыльными/убыточными будут жанры Action, Shooter, Sports.*"
   ]
  },
  {
   "cell_type": "markdown",
   "id": "1136f96d",
   "metadata": {},
   "source": [
    "**В исследовательской части мы:**\n",
    "\n",
    "1. посмотрели, сколько игр выпускалось каждый год:\n",
    "\n",
    "    - пик вышел на 2006-2011 года - более 1000 игр в год;\n",
    "\n",
    "    - актуальными для нас годами, мы выбрали последние 5 лет - 2012 - 2016 года.\n",
    "    \n",
    "   \n",
    "\n",
    "2. посмотрели, как менялись продажи по платформам за последние 5 лет:\n",
    "\n",
    "    - топ-5 самых актуальных платформ оказались - 'PS4', 'PS3', 'X360', '3DS', 'XOne';\n",
    "    \n",
    "    - \"жизнь\" платформ определили как 3-4 года с момента выпуска;\n",
    "    \n",
    "    \n",
    "3. Определили какие платформы лидируют по продажам:\n",
    "\n",
    "    - лидерами оказались платформы - 'PS4', 'XOne';\n",
    "    \n",
    "    - все платформы прошли свой \"пик\" и продажи стремятся вниз.\n",
    "    \n",
    "    \n",
    "4. Построили диграмму размаха по топ-10 платформ:\n",
    "\n",
    "    - все платформы имеют выбросы;\n",
    "    \n",
    "    - выбросы мы определили как самые \"ожидаемые\" игры на данных платформах.\n",
    "    \n",
    "    *по данным за последние 5 лет, **лучшим считается X360, его медиана и 75% процентиль имеет наибольшее значение**. Далее можно отметить топ-5 платформ:*\n",
    "\n",
    "    - с наибольшей медианой - это Xone, WiiU, PS4, PS3;\n",
    "    - с наибольшим 75% процентилем - PS4, XOne, Wii, PS3.\n",
    "    \n",
    "    \n",
    "5. Посмотрели, как оценки критиков и пользователей влияют на продажи по платформам:\n",
    "\n",
    "    - взяли лидера среди платформ - PS4, построили по ним диаграммы рассеивания(продажи - оценки критиков, продажи - оценки пользователей);\n",
    "    \n",
    "    - посчитали коэффициент корреляции(продажи - оценки критиков, продажи - оценки пользователей);\n",
    "    \n",
    "    - оценки критиков не влияют на показатель продажи. Корреляция слабая;\n",
    "    \n",
    "    - оценки пользователей не влияют на показатель продаж. Корреляция очень слабая.\n",
    "    \n",
    "    \n",
    "6. Оценили, как оценки критиков влияют на продажи других плафторм:\n",
    "\n",
    "    - выводы с предыдущей части оказались актуальными и для других платформ.\n",
    "    \n",
    "    \n",
    "7. Посмотрели, как игры разделяются по жанрам:\n",
    "    \n",
    "    - топ-5 популярных жанров за последние 5 лет оказались - action, role-playing, adventure, sports, shooter;\n",
    "    \n",
    "    - топ-5 самых прибыльных жанров оказались - shooter, sports, racing, platform, role-playing;\n",
    "    \n",
    "    По графику прибыльности жанров без выбросов, можно сказать что:\n",
    "    \n",
    "    - прибыльными будут жанры Action, Shooter, Sports;\n",
    "\n",
    "    - низкоприбыльными/убыточными будут жанры Action, Shooter, Sports."
   ]
  },
  {
   "cell_type": "markdown",
   "id": "ef3b53d2",
   "metadata": {},
   "source": [
    "### Шаг 4. Портрет пользователя каждого региона"
   ]
  },
  {
   "cell_type": "markdown",
   "id": "a8e02ebe",
   "metadata": {},
   "source": [
    "**Самые популярные платформы (топ-5) в каждом регионе**"
   ]
  },
  {
   "cell_type": "code",
   "execution_count": 60,
   "id": "7d7884a0",
   "metadata": {},
   "outputs": [
    {
     "data": {
      "image/png": "[encoded data removed]",
      "text/plain": [
       "<Figure size 432x288 with 1 Axes>"
      ]
     },
     "metadata": {
      "needs_background": "light"
     },
     "output_type": "display_data"
    }
   ],
   "source": [
    "#Пользователь Северной Америки\n",
    "df.pivot_table(index = 'platform', values = 'na_sales', aggfunc = 'sum').sort_values(by = 'na_sales', ascending = False).plot(kind = 'bar', grid = True)\n",
    "plt.title('Популярные платфоры в NA', fontsize=15)\n",
    "plt.xlabel('Платформа', fontsize=12)\n",
    "plt.ylabel('Продажи',fontsize=12)\n",
    "plt.show()"
   ]
  },
  {
   "cell_type": "code",
   "execution_count": 61,
   "id": "a45488b1",
   "metadata": {},
   "outputs": [
    {
     "data": {
      "image/png": "[encoded data removed]",
      "text/plain": [
       "<Figure size 432x288 with 1 Axes>"
      ]
     },
     "metadata": {
      "needs_background": "light"
     },
     "output_type": "display_data"
    }
   ],
   "source": [
    "#Пользователь Европы\n",
    "df.pivot_table(index = 'platform', values = 'eu_sales', aggfunc = 'sum').sort_values(by = 'eu_sales', ascending = False).plot(kind = 'bar', grid = True)\n",
    "plt.title('Популярные платфоры в EU', fontsize=15)\n",
    "plt.xlabel('Платформа', fontsize=12)\n",
    "plt.ylabel('Продажи',fontsize=12)\n",
    "plt.show()"
   ]
  },
  {
   "cell_type": "code",
   "execution_count": 62,
   "id": "43c7e9d8",
   "metadata": {},
   "outputs": [
    {
     "data": {
      "image/png": "[encoded data removed]",
      "text/plain": [
       "<Figure size 432x288 with 1 Axes>"
      ]
     },
     "metadata": {
      "needs_background": "light"
     },
     "output_type": "display_data"
    }
   ],
   "source": [
    "#Пользователь Японии\n",
    "df.pivot_table(index = 'platform', values = 'jp_sales', aggfunc = 'sum').sort_values(by = 'jp_sales', ascending = False).plot(kind = 'bar', grid = True)\n",
    "plt.title('Популярные платфоры в JP', fontsize=15)\n",
    "plt.xlabel('Платформа', fontsize=12)\n",
    "plt.ylabel('Продажи',fontsize=12)\n",
    "plt.show()"
   ]
  },
  {
   "cell_type": "markdown",
   "id": "3e100773",
   "metadata": {},
   "source": [
    "**Самые популярные жанры (топ-5) в каждом регионе**"
   ]
  },
  {
   "cell_type": "code",
   "execution_count": 63,
   "id": "fccbb0c9",
   "metadata": {},
   "outputs": [
    {
     "data": {
      "image/png": "[encoded data removed]",
      "text/plain": [
       "<Figure size 432x288 with 1 Axes>"
      ]
     },
     "metadata": {
      "needs_background": "light"
     },
     "output_type": "display_data"
    }
   ],
   "source": [
    "#Пользователь Северной Америки\n",
    "df.pivot_table(index = 'genre', values = 'na_sales', aggfunc = 'sum').sort_values(by = 'na_sales', ascending = False).plot(kind = 'bar', grid = True)\n",
    "plt.title('Популярные жанры в NA', fontsize=15)\n",
    "plt.xlabel('Жанр', fontsize=12)\n",
    "plt.ylabel('Продажи',fontsize=12)\n",
    "plt.show()"
   ]
  },
  {
   "cell_type": "code",
   "execution_count": 64,
   "id": "62172760",
   "metadata": {},
   "outputs": [
    {
     "data": {
      "image/png": "[encoded data removed]",
      "text/plain": [
       "<Figure size 432x288 with 1 Axes>"
      ]
     },
     "metadata": {
      "needs_background": "light"
     },
     "output_type": "display_data"
    }
   ],
   "source": [
    "#Пользователь Европы\n",
    "df.pivot_table(index = 'genre', values = 'eu_sales', aggfunc = 'sum').sort_values(by = 'eu_sales', ascending = False).plot(kind = 'bar', grid = True)\n",
    "plt.title('Популярные жанры в EU', fontsize=15)\n",
    "plt.xlabel('Жанр', fontsize=12)\n",
    "plt.ylabel('Продажи',fontsize=12)\n",
    "plt.show()"
   ]
  },
  {
   "cell_type": "code",
   "execution_count": 65,
   "id": "e0d30d15",
   "metadata": {},
   "outputs": [
    {
     "data": {
      "image/png": "[encoded data removed]",
      "text/plain": [
       "<Figure size 432x288 with 1 Axes>"
      ]
     },
     "metadata": {
      "needs_background": "light"
     },
     "output_type": "display_data"
    }
   ],
   "source": [
    "#Пользователь Японии\n",
    "df.pivot_table(index = 'genre', values = 'jp_sales', aggfunc = 'sum').sort_values(by = 'jp_sales', ascending = False).plot(kind = 'bar', grid = True)\n",
    "plt.title('Популярные жанры в JP', fontsize=15)\n",
    "plt.xlabel('Жанр', fontsize=12)\n",
    "plt.ylabel('Продажи',fontsize=12)\n",
    "plt.show()"
   ]
  },
  {
   "cell_type": "markdown",
   "id": "bc249e85",
   "metadata": {},
   "source": [
    "**Влияет ли рейтинг ESRB на продажи в отдельном регионе?**"
   ]
  },
  {
   "cell_type": "code",
   "execution_count": 66,
   "id": "2845cea1",
   "metadata": {},
   "outputs": [
    {
     "data": {
      "image/png": "[encoded data removed]",
      "text/plain": [
       "<Figure size 432x288 with 1 Axes>"
      ]
     },
     "metadata": {
      "needs_background": "light"
     },
     "output_type": "display_data"
    }
   ],
   "source": [
    "#Пользователь Северной Америки\n",
    "df.pivot_table(index = 'rating', values = 'na_sales', aggfunc = 'sum').sort_values(by = 'na_sales', ascending = False).plot(kind = 'bar', grid = True)\n",
    "plt.title('Популярные рейтинги ESRB в NA', fontsize=15)\n",
    "plt.xlabel('рейтинг ESRB', fontsize=12)\n",
    "plt.ylabel('Продажи',fontsize=12)\n",
    "plt.show()"
   ]
  },
  {
   "cell_type": "code",
   "execution_count": 67,
   "id": "db1e2830",
   "metadata": {},
   "outputs": [
    {
     "data": {
      "image/png": "[encoded data removed]",
      "text/plain": [
       "<Figure size 432x288 with 1 Axes>"
      ]
     },
     "metadata": {
      "needs_background": "light"
     },
     "output_type": "display_data"
    }
   ],
   "source": [
    "#Пользователь Европы\n",
    "df.pivot_table(index = 'rating', values = 'eu_sales', aggfunc = 'sum').sort_values(by = 'eu_sales', ascending = False).plot(kind = 'bar', grid = True)\n",
    "plt.title('Популярные рейтинги ESRB в EU', fontsize=15)\n",
    "plt.xlabel('рейтинг ESRB', fontsize=12)\n",
    "plt.ylabel('Продажи',fontsize=12)\n",
    "plt.show()"
   ]
  },
  {
   "cell_type": "code",
   "execution_count": 68,
   "id": "bb436fb2",
   "metadata": {},
   "outputs": [
    {
     "data": {
      "image/png": "[encoded data removed]",
      "text/plain": [
       "<Figure size 432x288 with 1 Axes>"
      ]
     },
     "metadata": {
      "needs_background": "light"
     },
     "output_type": "display_data"
    }
   ],
   "source": [
    "#Пользователь Японии\n",
    "df.pivot_table(index = 'rating', values = 'jp_sales', aggfunc = 'sum').sort_values(by = 'jp_sales', ascending = False).plot(kind = 'bar', grid = True)\n",
    "plt.title('Популярные рейтинги ESRB в JP', fontsize=15)\n",
    "plt.xlabel('рейтинг ESRB', fontsize=12)\n",
    "plt.ylabel('Продажи',fontsize=12)\n",
    "plt.show()"
   ]
  },
  {
   "cell_type": "markdown",
   "id": "8a160761",
   "metadata": {},
   "source": [
    "**Портреты пользователей разных регионов по данным за последие 5 лет:**\n",
    "1. Северная Америка:\n",
    "    - Топ-5 платформ: X360, PS4, PS3, XOne, 3DS.\n",
    "    - Топ-5 жанров: Action, Shooter, Sports, Role-Playing, Misc.\n",
    "    - В Северной Америке предпочитают рейтинг ESRB, без учета \"неопределен\", рейтин M\n",
    "2. Европа:\n",
    "    - Топ-5 платформ: PS4, PS3, X360, XOne, 3DS.\n",
    "    - Топ-5 жанров: Action, Shooter, Sports, Role-Playing, Misc.\n",
    "    - В Европе предпочитают рейтинг ESRB, без учета \"неопределен\", рейтин M\n",
    "3. Япония:\n",
    "    - Топ-5 платформ: 3DS, PS3, PS4, X360, XOne.\n",
    "    - Топ-5 жанров: Role-Playing, Action, Simulation, Shooter, , Fighting.\n",
    "    - В Японии предпочитают рейтинг ESRB, без учета \"неопределен\", рейтин E\n",
    "    \n",
    "*Портреты пользователей схожи в Северной Америке и Европе, портрет пользователя Японии отличается от остальных как по жанру игр, так и по платформам и даже рейтингу ESRB*\n"
   ]
  },
  {
   "cell_type": "markdown",
   "id": "935fa632",
   "metadata": {},
   "source": [
    "### Шаг 5. Проверьте гипотезы."
   ]
  },
  {
   "cell_type": "markdown",
   "id": "6c2e0fa1",
   "metadata": {},
   "source": [
    "Для проверки гипотез необходимо избавиться от пропусков в user_score"
   ]
  },
  {
   "cell_type": "code",
   "execution_count": 69,
   "id": "10bc26c2",
   "metadata": {},
   "outputs": [],
   "source": [
    "df = df.dropna(subset = ['user_score'])"
   ]
  },
  {
   "cell_type": "code",
   "execution_count": 70,
   "id": "4863903b",
   "metadata": {},
   "outputs": [
    {
     "data": {
      "text/plain": [
       "name                 0\n",
       "platform             0\n",
       "year_of_release      0\n",
       "genre                0\n",
       "na_sales             0\n",
       "eu_sales             0\n",
       "jp_sales             0\n",
       "other_sales          0\n",
       "critic_score       234\n",
       "user_score           0\n",
       "rating               0\n",
       "sum_sales            0\n",
       "dtype: int64"
      ]
     },
     "execution_count": 70,
     "metadata": {},
     "output_type": "execute_result"
    }
   ],
   "source": [
    "df.isna().sum()"
   ]
  },
  {
   "cell_type": "markdown",
   "id": "23f5212e",
   "metadata": {},
   "source": [
    "**Первая гипотеза:**\n",
    "\n",
    "Средние пользовательские рейтинги платформ Xbox One и PC одинаковые.\n",
    "\n",
    "H_0: Средние (user_score) пользователей \"XOne\" = Средние (user_score) пользователей \"PC\"`\n",
    "\n",
    "H_a: Средние (user_score) пользователей \"XOne\" ≠ Средние (user_score) пользователей \"PC\"`\n",
    "\n",
    "alpha = 0.05"
   ]
  },
  {
   "cell_type": "code",
   "execution_count": 71,
   "id": "53be9d99",
   "metadata": {},
   "outputs": [],
   "source": [
    "from scipy import stats as st"
   ]
  },
  {
   "cell_type": "code",
   "execution_count": 72,
   "id": "ec14edd2",
   "metadata": {},
   "outputs": [],
   "source": [
    "xbox_one = df[df['platform'] == 'XOne']['user_score']\n",
    "pc = df[df['platform'] == 'PC']['user_score']"
   ]
  },
  {
   "cell_type": "code",
   "execution_count": 73,
   "id": "c7de2e93",
   "metadata": {},
   "outputs": [
    {
     "name": "stdout",
     "output_type": "stream",
     "text": [
      "0.5489537965134912\n",
      "Не получилось отвергнуть нулевую гипотезу\n"
     ]
    }
   ],
   "source": [
    "results = st.ttest_ind(\n",
    "    xbox_one, \n",
    "    pc, equal_var = False\n",
    ")\n",
    "\n",
    "alpha = 0.05\n",
    "\n",
    "print(results.pvalue)\n",
    "\n",
    "if results.pvalue < alpha:\n",
    "    print(\"Отвергаем нулевую гипотезу\")\n",
    "else:\n",
    "    print(\"Не получилось отвергнуть нулевую гипотезу\")"
   ]
  },
  {
   "cell_type": "markdown",
   "id": "4b6f85fd",
   "metadata": {},
   "source": [
    "**Вторая гипотеза:**\n",
    "\n",
    "Средние пользовательские рейтинги жанров Action (англ. «действие», экшен-игры) и Sports (англ. «спортивные соревнования») разные.\n",
    "\n",
    "H_0: Средние (user_score) пользователей жанра \"Action\" = Средние (user_score) пользователей жанра \"Sports\"`\n",
    "\n",
    "H_a:Средние (user_score) пользователей жанра \"Action\" ≠ Средние (user_score) пользователей жанра \"Sports\"\n",
    "\n",
    "alpha = 0.05"
   ]
  },
  {
   "cell_type": "code",
   "execution_count": 74,
   "id": "9ee985c5",
   "metadata": {},
   "outputs": [],
   "source": [
    "action = df[df['genre'] == 'Action']['user_score']\n",
    "sports = df[df['genre'] == 'Sports']['user_score']"
   ]
  },
  {
   "cell_type": "code",
   "execution_count": 75,
   "id": "7a5188a5",
   "metadata": {},
   "outputs": [
    {
     "name": "stdout",
     "output_type": "stream",
     "text": [
      "4.24307776572644e-20\n",
      "Отвергаем нулевую гипотезу\n"
     ]
    }
   ],
   "source": [
    "results = st.ttest_ind(\n",
    "    action, \n",
    "    sports, equal_var = False\n",
    ")\n",
    "\n",
    "alpha = 0.05\n",
    "\n",
    "print(results.pvalue)\n",
    "\n",
    "if results.pvalue < alpha:\n",
    "    print(\"Отвергаем нулевую гипотезу\")\n",
    "else:\n",
    "    print(\"Не получилось отвергнуть нулевую гипотезу\")"
   ]
  },
  {
   "cell_type": "markdown",
   "id": "937aa50e",
   "metadata": {},
   "source": [
    "**Были проверены 2 гипотезы. По каждой были выдвинуты нулевые и альтернатывные гипотезы.**\n",
    "\n",
    "1. Средние пользовательские рейтинги платформ Xbox One и PC одинаковые:\n",
    "\n",
    "    - Нулевая гиптеза:  Средние оценки пользователей \"XOne\" равны средним оценкам пользователей \"PC\".\n",
    "    - Альтернативная гипотеза: Средние оценки пользователей \"XOne\" не равны средним оценкам пользователей \"PC\".\n",
    "    \n",
    "Не удалось отвергнуть нулевую гипотезу.\n",
    "    \n",
    "2. Средние пользовательские рейтинги жанров Action (англ. «действие», экшен-игры) и Sports (англ. «спортивные соревнования») разные.\n",
    "    \n",
    "    - Нулевая гиптеза:  Средние оценки пользователей жанра \"Action\" равны средним оценкам пользователей \"Sports\".\n",
    "    - Альтернативная гипотеза: Средние оценки пользователей жанра \"Action\" не равны средним оценкам пользователей \"Sports\".\n",
    "\n",
    "Нулевая гипотеза была отвергнута.\n",
    "    \n",
    "    "
   ]
  },
  {
   "cell_type": "markdown",
   "id": "686e843a",
   "metadata": {},
   "source": [
    "### Шаг 6. Общий вывод."
   ]
  },
  {
   "cell_type": "markdown",
   "id": "783f7bb8",
   "metadata": {},
   "source": [
    "**В этом проекте были предоставлены о продажах игр, оценки пользователей и экспертов, жанры и платформы (например, Xbox или PlayStation). Нам нужно было выявить определяющие успешность игры закономерности. Это позволит сделать ставку на потенциально популярный продукт и спланировать рекламные кампании на 2017 год. Данные были до 2016 года, включая его.**\n",
    "\n",
    "**На этапе ознакомления с данными:**\n",
    "1. Импрортировали библиотеки pandas, matplotlib, numpy.\n",
    "2. Изучили первые 15 строк и основную информацию датафрейма.\n",
    "3. Построили общие гистограммы для всех числовых столбцов таблицы.\n",
    "4. Проверили датасет на дубликаты.\n",
    "\n",
    "**На этапе предобработки данных мы:**\n",
    "\n",
    "1. Перевели названия столбцов в нижний регистр\n",
    "2. Изменили типы данных в столбцах:\n",
    "\n",
    "    -year_of_release в int64. Так как в столбце был пропуски, перевод в обычный int вызывал ошибку;\n",
    " \n",
    "    -user_score в float, однако в этом столбце были значения \"tbd\". Они означают, что человек еще в раздумьях какую оценку нужно поставить. Поэтому значения \"tbd\" были заменены на NaN.\n",
    "3. Обработали пропуски в столбцах:\n",
    "\n",
    "    -name, genre, year_of_release были удалены, так как точно их заполнить невозможно. Пропусков было немного, так что на точность данных это не повлияет;\n",
    "    \n",
    "    -заполнение оценок пользователей и критиков в user_score, critic_score добавит \"шума\" в данные, поэтому пропуски в них мы сохранили.\n",
    "    \n",
    "    -в столбце rating удалили очень редкие значения, которые составляют пренебрежимо малую долю в данных;\n",
    "    \n",
    "    -rating заполнили значением \"неопределен\", так как возрастную группу определить точно нельзя.\n",
    "    \n",
    "4. Создали столбец sum_sales в котором находится суммарная продажа во всех регионах.\n",
    "\n",
    "**В исследовательской части мы:**\n",
    "\n",
    "\n",
    "1. посмотрели, сколько игр выпускалось каждый год:\n",
    "\n",
    "    - пик вышел на 2006-2011 года - более 1000 игр в год;\n",
    "\n",
    "    - актуальными для нас годами, мы выбрали последние 5 лет - 2012 - 2016 года.\n",
    "    \n",
    "   \n",
    "\n",
    "2. посмотрели, как менялись продажи по платформам за последние 5 лет:\n",
    "\n",
    "    - топ-5 самых актуальных платформ оказались - 'PS4', 'PS3', 'X360', '3DS', 'XOne';\n",
    "    \n",
    "    - \"жизнь\" платформ определили как 3-4 года с момента выпуска;\n",
    "    \n",
    "    \n",
    "3. Определили какие платформы лидируют по продажам:\n",
    "\n",
    "    - лидерами оказались платформы - 'PS4', 'XOne';\n",
    "    \n",
    "    - все платформы прошли свой \"пик\" и продажи стремятся вниз.\n",
    "    \n",
    "    \n",
    "4. Построили диграмму размаха по топ-10 платформ:\n",
    "\n",
    "    - все платформы имеют выбросы;\n",
    "    \n",
    "    - выбросы мы определили как самые \"ожидаемые\" игры на данных платформах.\n",
    "    \n",
    "    *по данным за последние 5 лет, **лучшим считается X360, его медиана и 75% процентиль имеет наибольшее значение**. Далее можно отметить топ-5 платформ:*\n",
    "\n",
    "    - с наибольшей медианой - это Xone, WiiU, PS4, PS3;\n",
    "    - с наибольшим 75% процентилем - PS4, XOne, Wii, PS3.\n",
    "    \n",
    "    \n",
    "5. Посмотрели, как оценки критиков и пользователей влияют на продажи по платформам:\n",
    "\n",
    "    - взяли лидера среди платформ - PS4, построили по ним диаграммы рассеивания(продажи - оценки критиков, продажи - оценки пользователей);\n",
    "    \n",
    "    - посчитали коэффициент корреляции(продажи - оценки критиков, продажи - оценки пользователей);\n",
    "    \n",
    "    - оценки критиков не влияют на показатель продажи. Корреляция слабая;\n",
    "    \n",
    "    - оценки пользователей не влияют на показатель продаж. Корреляция очень слабая.\n",
    "    \n",
    "    \n",
    "6. Оценили, как оценки критиков влияют на продажи других плафторм:\n",
    "\n",
    "    - выводы с предыдущей части оказались актуальными и для других платформ.\n",
    "    \n",
    "    \n",
    "7. Посмотрели, как игры разделяются по жанрам:\n",
    "    \n",
    "    - топ-5 популярных жанров за последние 5 лет оказались - action, role-playing, adventure, sports, shooter;\n",
    "    \n",
    "    - топ-5 самых прибыльных жанров оказались - shooter, sports, racing, platform, role-playing;\n",
    "    \n",
    "    По графику прибыльности жанров без выбросов, можно сказать что:\n",
    "    \n",
    "    - прибыльными будут жанры Action, Shooter, Sports;\n",
    "\n",
    "    - низкоприбыльными/убыточными будут жанры Action, Shooter, Sports.\n",
    "\n",
    "**В аналитической части:**\n",
    "1. Составили портреты пользователей по регионам NA, EU, JP за последние 5 лет:\n",
    "    1. Северная Америка:\n",
    "        - Топ-5 платформ: X360, PS4, PS3, XOne, 3DS.\n",
    "        - Топ-5 жанров: Action, Shooter, Sports, Role-Playing, Misc.\n",
    "        - В Северной Америке предпочитают рейтинг ESRB, без учета \"неопределен\", рейтин M\n",
    "    2. Европа:\n",
    "        - Топ-5 платформ: PS4, PS3, X360, XOne, 3DS.\n",
    "        - Топ-5 жанров: Action, Shooter, Sports, Role-Playing, Misc.\n",
    "        - В Европе предпочитают рейтинг ESRB, без учета \"неопределен\", рейтин M\n",
    "    3. Япония:\n",
    "        - Топ-5 платформ: 3DS, PS3, PS4, X360, XOne.\n",
    "        - Топ-5 жанров: Role-Playing, Action, Simulation, Shooter, , Fighting.\n",
    "        - В Японии предпочитают рейтинг ESRB, без учета \"неопределен\", рейтин E.\n",
    "    *Портреты пользователей схожи в Северной Америке и Европе, портрет пользователя Японии отличается от остальных как по жанру игр, так и по платформам и даже рейтингу ESRB*\n",
    "\n",
    "**На этапе проверки гипотез:**\n",
    "\n",
    "    Для проверки гипотез необходимо избавиться от пропусков в user_score.\n",
    "    \n",
    "    **Были проверены 2 гипотезы. По каждой были выдвинуты нулевые и альтернатывные гипотезы.**\n",
    "\n",
    "1. Средние пользовательские рейтинги платформ Xbox One и PC одинаковые:\n",
    "\n",
    "    - Нулевая гиптеза:  Средние оценки пользователей \"XOne\" равны средним оценкам пользователей \"PC\".\n",
    "    - Альтернативная гипотеза: Средние оценки пользователей \"XOne\" не равны средним оценкам пользователей \"PC\".\n",
    "    \n",
    "*Не получилось отвергнуть нулевую гипотезу*\n",
    "\n",
    "    \n",
    "2. Средние пользовательские рейтинги жанров Action (англ. «действие», экшен-игры) и Sports (англ. «спортивные соревнования») разные.\n",
    "    \n",
    "    - Нулевая гиптеза:  Средние оценки пользователей жанра \"Action\" равны средним оценкам пользователей \"Sports\".\n",
    "    - Альтернативная гипотеза: Средние оценки пользователей жанра \"Action\" не равны средним оценкам пользователей \"Sports\".\n",
    "\n",
    "*Нулевая гипотеза была отвергнута*\n",
    "    \n",
    "***Подводя итог:***\n",
    "В 2017 году в игровой индустрии:\n",
    "    - самыми актуальными платформами будут PS4, Xbox One. Все остальные платформы прошли свой \"пик\" и продажи стремятся вниз;\n",
    "    - самыми популярными жанрами будут action, role-playing, sports, shooter, adventure;\n",
    "    - самыми продаваемыми будут жанры action, shooter, sport.\n",
    "    - от организации ESRB категория M будет более продаваемая, чем остальные."
   ]
  }
 ],
 "metadata": {
  "ExecuteTimeLog": [
   {
    "duration": 49,
    "start_time": "2023-01-17T10:05:58.473Z"
   },
   {
    "duration": 1496,
    "start_time": "2023-01-17T10:06:04.070Z"
   },
   {
    "duration": 20,
    "start_time": "2023-01-17T10:06:05.568Z"
   },
   {
    "duration": 30,
    "start_time": "2023-01-17T10:06:05.589Z"
   },
   {
    "duration": 766,
    "start_time": "2023-01-17T10:06:05.621Z"
   },
   {
    "duration": 3,
    "start_time": "2023-01-17T10:06:06.389Z"
   },
   {
    "duration": 37,
    "start_time": "2023-01-17T10:06:06.393Z"
   },
   {
    "duration": 28,
    "start_time": "2023-01-17T10:06:06.431Z"
   },
   {
    "duration": 23,
    "start_time": "2023-01-17T10:06:06.460Z"
   },
   {
    "duration": 16,
    "start_time": "2023-01-17T10:06:06.485Z"
   },
   {
    "duration": 33,
    "start_time": "2023-01-17T10:06:06.504Z"
   },
   {
    "duration": 25,
    "start_time": "2023-01-17T10:06:06.539Z"
   },
   {
    "duration": 21,
    "start_time": "2023-01-17T10:06:06.565Z"
   },
   {
    "duration": 58,
    "start_time": "2023-01-17T10:06:06.588Z"
   },
   {
    "duration": 6,
    "start_time": "2023-01-17T10:06:06.647Z"
   },
   {
    "duration": 126,
    "start_time": "2023-01-17T10:06:06.654Z"
   },
   {
    "duration": 5,
    "start_time": "2023-01-17T10:06:06.782Z"
   },
   {
    "duration": 27,
    "start_time": "2023-01-17T10:06:06.788Z"
   },
   {
    "duration": 23,
    "start_time": "2023-01-17T10:06:06.817Z"
   },
   {
    "duration": 40,
    "start_time": "2023-01-17T10:06:06.841Z"
   },
   {
    "duration": 29,
    "start_time": "2023-01-17T10:06:06.882Z"
   },
   {
    "duration": 4,
    "start_time": "2023-01-17T10:06:06.913Z"
   },
   {
    "duration": 49,
    "start_time": "2023-01-17T10:06:06.918Z"
   },
   {
    "duration": 11,
    "start_time": "2023-01-17T10:06:06.969Z"
   },
   {
    "duration": 37,
    "start_time": "2023-01-17T10:06:06.981Z"
   },
   {
    "duration": 218,
    "start_time": "2023-01-17T10:06:07.020Z"
   },
   {
    "duration": 192,
    "start_time": "2023-01-17T10:06:07.240Z"
   },
   {
    "duration": 190,
    "start_time": "2023-01-17T10:06:07.434Z"
   },
   {
    "duration": 228,
    "start_time": "2023-01-17T10:06:07.628Z"
   },
   {
    "duration": 4,
    "start_time": "2023-01-17T10:06:07.858Z"
   },
   {
    "duration": 19,
    "start_time": "2023-01-17T10:06:07.863Z"
   },
   {
    "duration": 22,
    "start_time": "2023-01-17T10:06:07.884Z"
   },
   {
    "duration": 21,
    "start_time": "2023-01-17T10:06:07.908Z"
   },
   {
    "duration": 7,
    "start_time": "2023-01-17T10:06:07.931Z"
   },
   {
    "duration": 30,
    "start_time": "2023-01-17T10:06:07.939Z"
   },
   {
    "duration": 10,
    "start_time": "2023-01-17T10:06:07.971Z"
   },
   {
    "duration": 186,
    "start_time": "2023-01-17T10:06:07.982Z"
   },
   {
    "duration": 205,
    "start_time": "2023-01-17T10:06:08.170Z"
   },
   {
    "duration": 223,
    "start_time": "2023-01-17T10:06:08.377Z"
   },
   {
    "duration": 149,
    "start_time": "2023-01-17T10:06:08.604Z"
   },
   {
    "duration": 153,
    "start_time": "2023-01-17T10:06:08.755Z"
   },
   {
    "duration": 144,
    "start_time": "2023-01-17T10:06:08.910Z"
   },
   {
    "duration": 229,
    "start_time": "2023-01-17T10:06:09.056Z"
   },
   {
    "duration": 205,
    "start_time": "2023-01-17T10:06:09.286Z"
   },
   {
    "duration": 193,
    "start_time": "2023-01-17T10:06:09.493Z"
   },
   {
    "duration": 164,
    "start_time": "2023-01-17T10:06:09.687Z"
   },
   {
    "duration": 161,
    "start_time": "2023-01-17T10:06:09.853Z"
   },
   {
    "duration": 258,
    "start_time": "2023-01-17T10:06:10.016Z"
   },
   {
    "duration": 31,
    "start_time": "2023-01-17T10:06:10.276Z"
   },
   {
    "duration": 30,
    "start_time": "2023-01-17T10:06:10.308Z"
   },
   {
    "duration": 13,
    "start_time": "2023-01-17T10:06:10.340Z"
   },
   {
    "duration": 15,
    "start_time": "2023-01-17T10:06:10.355Z"
   },
   {
    "duration": 36,
    "start_time": "2023-01-17T10:06:10.371Z"
   },
   {
    "duration": 11,
    "start_time": "2023-01-17T10:06:10.409Z"
   },
   {
    "duration": 6,
    "start_time": "2023-01-17T10:06:34.624Z"
   },
   {
    "duration": 1189,
    "start_time": "2023-01-18T12:10:54.336Z"
   },
   {
    "duration": 216,
    "start_time": "2023-01-18T12:10:55.527Z"
   },
   {
    "duration": 20,
    "start_time": "2023-01-18T12:10:55.745Z"
   },
   {
    "duration": 41,
    "start_time": "2023-01-18T12:10:55.767Z"
   },
   {
    "duration": 750,
    "start_time": "2023-01-18T12:10:55.810Z"
   },
   {
    "duration": 22,
    "start_time": "2023-01-18T12:10:56.562Z"
   },
   {
    "duration": 4,
    "start_time": "2023-01-18T12:10:56.586Z"
   },
   {
    "duration": 22,
    "start_time": "2023-01-18T12:10:56.592Z"
   },
   {
    "duration": 38,
    "start_time": "2023-01-18T12:10:56.617Z"
   },
   {
    "duration": 4,
    "start_time": "2023-01-18T12:10:56.657Z"
   },
   {
    "duration": 9,
    "start_time": "2023-01-18T12:10:56.662Z"
   },
   {
    "duration": 12,
    "start_time": "2023-01-18T12:10:56.673Z"
   },
   {
    "duration": 9,
    "start_time": "2023-01-18T12:10:56.686Z"
   },
   {
    "duration": 9,
    "start_time": "2023-01-18T12:10:56.696Z"
   },
   {
    "duration": 46,
    "start_time": "2023-01-18T12:10:56.707Z"
   },
   {
    "duration": 5,
    "start_time": "2023-01-18T12:10:56.755Z"
   },
   {
    "duration": 10,
    "start_time": "2023-01-18T12:10:56.761Z"
   },
   {
    "duration": 12,
    "start_time": "2023-01-18T12:10:56.772Z"
   },
   {
    "duration": 6,
    "start_time": "2023-01-18T12:10:56.785Z"
   },
   {
    "duration": 19,
    "start_time": "2023-01-18T12:10:56.792Z"
   },
   {
    "duration": 40,
    "start_time": "2023-01-18T12:10:56.812Z"
   },
   {
    "duration": 320,
    "start_time": "2023-01-18T12:10:56.853Z"
   },
   {
    "duration": 25,
    "start_time": "2023-01-18T12:10:57.175Z"
   },
   {
    "duration": 7,
    "start_time": "2023-01-18T12:10:57.202Z"
   },
   {
    "duration": 260,
    "start_time": "2023-01-18T12:10:57.211Z"
   },
   {
    "duration": 6,
    "start_time": "2023-01-18T12:10:57.473Z"
   },
   {
    "duration": 270,
    "start_time": "2023-01-18T12:10:57.480Z"
   },
   {
    "duration": 95,
    "start_time": "2023-01-18T12:10:57.754Z"
   },
   {
    "duration": 265,
    "start_time": "2023-01-18T12:10:57.851Z"
   },
   {
    "duration": 253,
    "start_time": "2023-01-18T12:10:58.118Z"
   },
   {
    "duration": 178,
    "start_time": "2023-01-18T12:10:58.373Z"
   },
   {
    "duration": 162,
    "start_time": "2023-01-18T12:10:58.554Z"
   },
   {
    "duration": 5,
    "start_time": "2023-01-18T12:10:58.718Z"
   },
   {
    "duration": 10,
    "start_time": "2023-01-18T12:10:58.724Z"
   },
   {
    "duration": 21,
    "start_time": "2023-01-18T12:10:58.736Z"
   },
   {
    "duration": 146,
    "start_time": "2023-01-18T12:10:58.759Z"
   },
   {
    "duration": 156,
    "start_time": "2023-01-18T12:10:58.907Z"
   },
   {
    "duration": 5,
    "start_time": "2023-01-18T12:10:59.064Z"
   },
   {
    "duration": 11,
    "start_time": "2023-01-18T12:10:59.071Z"
   },
   {
    "duration": 148,
    "start_time": "2023-01-18T12:10:59.084Z"
   },
   {
    "duration": 161,
    "start_time": "2023-01-18T12:10:59.234Z"
   },
   {
    "duration": 4,
    "start_time": "2023-01-18T12:10:59.397Z"
   },
   {
    "duration": 26,
    "start_time": "2023-01-18T12:10:59.403Z"
   },
   {
    "duration": 142,
    "start_time": "2023-01-18T12:10:59.431Z"
   },
   {
    "duration": 233,
    "start_time": "2023-01-18T12:10:59.575Z"
   },
   {
    "duration": 5,
    "start_time": "2023-01-18T12:10:59.811Z"
   },
   {
    "duration": 12,
    "start_time": "2023-01-18T12:10:59.817Z"
   },
   {
    "duration": 130,
    "start_time": "2023-01-18T12:10:59.830Z"
   },
   {
    "duration": 130,
    "start_time": "2023-01-18T12:10:59.961Z"
   },
   {
    "duration": 5,
    "start_time": "2023-01-18T12:11:00.092Z"
   },
   {
    "duration": 15,
    "start_time": "2023-01-18T12:11:00.099Z"
   },
   {
    "duration": 165,
    "start_time": "2023-01-18T12:11:00.116Z"
   },
   {
    "duration": 162,
    "start_time": "2023-01-18T12:11:00.282Z"
   },
   {
    "duration": 6,
    "start_time": "2023-01-18T12:11:00.445Z"
   },
   {
    "duration": 16,
    "start_time": "2023-01-18T12:11:00.453Z"
   },
   {
    "duration": 215,
    "start_time": "2023-01-18T12:11:00.471Z"
   },
   {
    "duration": 196,
    "start_time": "2023-01-18T12:11:00.687Z"
   },
   {
    "duration": 219,
    "start_time": "2023-01-18T12:11:00.885Z"
   },
   {
    "duration": 182,
    "start_time": "2023-01-18T12:11:01.105Z"
   },
   {
    "duration": 202,
    "start_time": "2023-01-18T12:11:01.289Z"
   },
   {
    "duration": 164,
    "start_time": "2023-01-18T12:11:01.493Z"
   },
   {
    "duration": 258,
    "start_time": "2023-01-18T12:11:01.659Z"
   },
   {
    "duration": 194,
    "start_time": "2023-01-18T12:11:01.919Z"
   },
   {
    "duration": 182,
    "start_time": "2023-01-18T12:11:02.115Z"
   },
   {
    "duration": 140,
    "start_time": "2023-01-18T12:11:02.299Z"
   },
   {
    "duration": 151,
    "start_time": "2023-01-18T12:11:02.441Z"
   },
   {
    "duration": 152,
    "start_time": "2023-01-18T12:11:02.593Z"
   },
   {
    "duration": 6,
    "start_time": "2023-01-18T12:11:02.749Z"
   },
   {
    "duration": 12,
    "start_time": "2023-01-18T12:11:02.757Z"
   },
   {
    "duration": 3,
    "start_time": "2023-01-18T12:11:02.771Z"
   },
   {
    "duration": 10,
    "start_time": "2023-01-18T12:11:02.776Z"
   },
   {
    "duration": 6,
    "start_time": "2023-01-18T12:11:02.787Z"
   },
   {
    "duration": 9,
    "start_time": "2023-01-18T12:11:02.795Z"
   },
   {
    "duration": 96,
    "start_time": "2023-01-18T12:11:02.805Z"
   },
   {
    "duration": 261,
    "start_time": "2023-01-18T12:11:19.059Z"
   },
   {
    "duration": 269,
    "start_time": "2023-01-18T12:11:28.340Z"
   },
   {
    "duration": 10,
    "start_time": "2023-01-18T12:23:40.062Z"
   },
   {
    "duration": 1195,
    "start_time": "2023-01-18T12:23:48.250Z"
   },
   {
    "duration": 172,
    "start_time": "2023-01-18T12:23:49.447Z"
   },
   {
    "duration": 21,
    "start_time": "2023-01-18T12:23:49.621Z"
   },
   {
    "duration": 14,
    "start_time": "2023-01-18T12:23:49.644Z"
   },
   {
    "duration": 723,
    "start_time": "2023-01-18T12:23:49.660Z"
   },
   {
    "duration": 15,
    "start_time": "2023-01-18T12:23:50.385Z"
   },
   {
    "duration": 3,
    "start_time": "2023-01-18T12:23:50.402Z"
   },
   {
    "duration": 19,
    "start_time": "2023-01-18T12:23:50.406Z"
   },
   {
    "duration": 31,
    "start_time": "2023-01-18T12:23:50.426Z"
   },
   {
    "duration": 5,
    "start_time": "2023-01-18T12:23:50.461Z"
   },
   {
    "duration": 20,
    "start_time": "2023-01-18T12:23:50.467Z"
   },
   {
    "duration": 16,
    "start_time": "2023-01-18T12:23:50.488Z"
   },
   {
    "duration": 24,
    "start_time": "2023-01-18T12:23:50.506Z"
   },
   {
    "duration": 15,
    "start_time": "2023-01-18T12:23:50.532Z"
   },
   {
    "duration": 23,
    "start_time": "2023-01-18T12:23:50.548Z"
   },
   {
    "duration": 5,
    "start_time": "2023-01-18T12:23:50.572Z"
   },
   {
    "duration": 7,
    "start_time": "2023-01-18T12:23:50.579Z"
   },
   {
    "duration": 16,
    "start_time": "2023-01-18T12:23:50.588Z"
   },
   {
    "duration": 8,
    "start_time": "2023-01-18T12:23:50.605Z"
   },
   {
    "duration": 7,
    "start_time": "2023-01-18T12:23:50.615Z"
   },
   {
    "duration": 36,
    "start_time": "2023-01-18T12:23:50.624Z"
   },
   {
    "duration": 17,
    "start_time": "2023-01-18T12:23:50.661Z"
   },
   {
    "duration": 342,
    "start_time": "2023-01-18T12:23:50.680Z"
   },
   {
    "duration": 38,
    "start_time": "2023-01-18T12:23:51.024Z"
   },
   {
    "duration": 7,
    "start_time": "2023-01-18T12:23:51.064Z"
   },
   {
    "duration": 257,
    "start_time": "2023-01-18T12:23:51.073Z"
   },
   {
    "duration": 5,
    "start_time": "2023-01-18T12:23:51.332Z"
   },
   {
    "duration": 291,
    "start_time": "2023-01-18T12:23:51.352Z"
   },
   {
    "duration": 14,
    "start_time": "2023-01-18T12:23:51.645Z"
   },
   {
    "duration": 408,
    "start_time": "2023-01-18T12:23:51.660Z"
   },
   {
    "duration": 334,
    "start_time": "2023-01-18T12:23:52.070Z"
   },
   {
    "duration": 153,
    "start_time": "2023-01-18T12:23:52.406Z"
   },
   {
    "duration": 156,
    "start_time": "2023-01-18T12:23:52.560Z"
   },
   {
    "duration": 5,
    "start_time": "2023-01-18T12:23:52.717Z"
   },
   {
    "duration": 15,
    "start_time": "2023-01-18T12:23:52.723Z"
   },
   {
    "duration": 36,
    "start_time": "2023-01-18T12:23:52.748Z"
   },
   {
    "duration": 139,
    "start_time": "2023-01-18T12:23:52.785Z"
   },
   {
    "duration": 161,
    "start_time": "2023-01-18T12:23:52.926Z"
   },
   {
    "duration": 5,
    "start_time": "2023-01-18T12:23:53.089Z"
   },
   {
    "duration": 31,
    "start_time": "2023-01-18T12:23:53.095Z"
   },
   {
    "duration": 162,
    "start_time": "2023-01-18T12:23:53.128Z"
   },
   {
    "duration": 164,
    "start_time": "2023-01-18T12:23:53.292Z"
   },
   {
    "duration": 6,
    "start_time": "2023-01-18T12:23:53.458Z"
   },
   {
    "duration": 37,
    "start_time": "2023-01-18T12:23:53.466Z"
   },
   {
    "duration": 157,
    "start_time": "2023-01-18T12:23:53.505Z"
   },
   {
    "duration": 245,
    "start_time": "2023-01-18T12:23:53.664Z"
   },
   {
    "duration": 4,
    "start_time": "2023-01-18T12:23:53.911Z"
   },
   {
    "duration": 22,
    "start_time": "2023-01-18T12:23:53.917Z"
   },
   {
    "duration": 159,
    "start_time": "2023-01-18T12:23:53.940Z"
   },
   {
    "duration": 125,
    "start_time": "2023-01-18T12:23:54.101Z"
   },
   {
    "duration": 5,
    "start_time": "2023-01-18T12:23:54.228Z"
   },
   {
    "duration": 20,
    "start_time": "2023-01-18T12:23:54.234Z"
   },
   {
    "duration": 152,
    "start_time": "2023-01-18T12:23:54.256Z"
   },
   {
    "duration": 148,
    "start_time": "2023-01-18T12:23:54.410Z"
   },
   {
    "duration": 5,
    "start_time": "2023-01-18T12:23:54.560Z"
   },
   {
    "duration": 15,
    "start_time": "2023-01-18T12:23:54.566Z"
   },
   {
    "duration": 189,
    "start_time": "2023-01-18T12:23:54.583Z"
   },
   {
    "duration": 200,
    "start_time": "2023-01-18T12:23:54.774Z"
   },
   {
    "duration": 195,
    "start_time": "2023-01-18T12:23:54.976Z"
   },
   {
    "duration": 190,
    "start_time": "2023-01-18T12:23:55.173Z"
   },
   {
    "duration": 188,
    "start_time": "2023-01-18T12:23:55.365Z"
   },
   {
    "duration": 167,
    "start_time": "2023-01-18T12:23:55.555Z"
   },
   {
    "duration": 260,
    "start_time": "2023-01-18T12:23:55.723Z"
   },
   {
    "duration": 196,
    "start_time": "2023-01-18T12:23:55.985Z"
   },
   {
    "duration": 194,
    "start_time": "2023-01-18T12:23:56.182Z"
   },
   {
    "duration": 176,
    "start_time": "2023-01-18T12:23:56.378Z"
   },
   {
    "duration": 195,
    "start_time": "2023-01-18T12:23:56.557Z"
   },
   {
    "duration": 138,
    "start_time": "2023-01-18T12:23:56.754Z"
   },
   {
    "duration": 6,
    "start_time": "2023-01-18T12:23:56.894Z"
   },
   {
    "duration": 7,
    "start_time": "2023-01-18T12:23:56.901Z"
   },
   {
    "duration": 3,
    "start_time": "2023-01-18T12:23:56.909Z"
   },
   {
    "duration": 12,
    "start_time": "2023-01-18T12:23:56.914Z"
   },
   {
    "duration": 21,
    "start_time": "2023-01-18T12:23:56.928Z"
   },
   {
    "duration": 8,
    "start_time": "2023-01-18T12:23:56.951Z"
   },
   {
    "duration": 10,
    "start_time": "2023-01-18T12:23:56.960Z"
   }
  ],
  "kernelspec": {
   "display_name": "Python 3 (ipykernel)",
   "language": "python",
   "name": "python3"
  },
  "language_info": {
   "codemirror_mode": {
    "name": "ipython",
    "version": 3
   },
   "file_extension": ".py",
   "mimetype": "text/x-python",
   "name": "python",
   "nbconvert_exporter": "python",
   "pygments_lexer": "ipython3",
   "version": "3.9.13"
  },
  "toc": {
   "base_numbering": 1,
   "nav_menu": {},
   "number_sections": true,
   "sideBar": true,
   "skip_h1_title": true,
   "title_cell": "Table of Contents",
   "title_sidebar": "Contents",
   "toc_cell": false,
   "toc_position": {},
   "toc_section_display": true,
   "toc_window_display": true
  }
 },
 "nbformat": 4,
 "nbformat_minor": 5
}
